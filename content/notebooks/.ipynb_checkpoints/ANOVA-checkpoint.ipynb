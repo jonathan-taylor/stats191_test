{
 "cells": [
  {
   "cell_type": "markdown",
   "metadata": {
    "slideshow": {
     "slide_type": "slide"
    }
   },
   "source": [
    "# ANOVA models\n",
    "\n",
    "Last time, we discussed the use of categorical variables\n",
    "in multivariate regression. Often, these are encoded as\n",
    "indicator columns in the design matrix."
   ]
  },
  {
   "cell_type": "code",
   "execution_count": 1,
   "metadata": {
    "collapsed": true,
    "slideshow": {
     "slide_type": "skip"
    }
   },
   "outputs": [],
   "source": [
    "options(repr.plot.width=4, repr.plot.height=4)"
   ]
  },
  {
   "cell_type": "code",
   "execution_count": 2,
   "metadata": {
    "collapsed": false,
    "slideshow": {
     "slide_type": "fragment"
    }
   },
   "outputs": [
    {
     "data": {
      "text/html": [
       "<table>\n",
       "<thead><tr><th></th><th scope=col>(Intercept)</th><th scope=col>X</th><th scope=col>E2</th><th scope=col>E3</th><th scope=col>M1</th></tr></thead>\n",
       "<tbody>\n",
       "\t<tr><th scope=row>1</th><td>1</td><td>1</td><td>0</td><td>0</td><td>1</td></tr>\n",
       "\t<tr><th scope=row>2</th><td>1</td><td>1</td><td>0</td><td>1</td><td>0</td></tr>\n",
       "\t<tr><th scope=row>3</th><td>1</td><td>1</td><td>0</td><td>1</td><td>1</td></tr>\n",
       "\t<tr><th scope=row>4</th><td>1</td><td>1</td><td>1</td><td>0</td><td>0</td></tr>\n",
       "\t<tr><th scope=row>5</th><td>1</td><td>1</td><td>0</td><td>1</td><td>0</td></tr>\n",
       "\t<tr><th scope=row>6</th><td>1</td><td>2</td><td>1</td><td>0</td><td>1</td></tr>\n",
       "</tbody>\n",
       "</table>\n"
      ],
      "text/latex": [
       "\\begin{tabular}{r|lllll}\n",
       "  & (Intercept) & X & E2 & E3 & M1\\\\\n",
       "\\hline\n",
       "\t1 & 1 & 1 & 0 & 0 & 1\\\\\n",
       "\t2 & 1 & 1 & 0 & 1 & 0\\\\\n",
       "\t3 & 1 & 1 & 0 & 1 & 1\\\\\n",
       "\t4 & 1 & 1 & 1 & 0 & 0\\\\\n",
       "\t5 & 1 & 1 & 0 & 1 & 0\\\\\n",
       "\t6 & 1 & 2 & 1 & 0 & 1\\\\\n",
       "\\end{tabular}\n"
      ],
      "text/markdown": [
       "1. 1\n",
       "2. 1\n",
       "3. 1\n",
       "4. 1\n",
       "5. 1\n",
       "6. 1\n",
       "7. 1\n",
       "8. 1\n",
       "9. 1\n",
       "10. 1\n",
       "11. 1\n",
       "12. 2\n",
       "13. 0\n",
       "14. 0\n",
       "15. 0\n",
       "16. 1\n",
       "17. 0\n",
       "18. 1\n",
       "19. 0\n",
       "20. 1\n",
       "21. 1\n",
       "22. 0\n",
       "23. 1\n",
       "24. 0\n",
       "25. 1\n",
       "26. 0\n",
       "27. 1\n",
       "28. 0\n",
       "29. 0\n",
       "30. 1\n",
       "\n",
       "\n"
      ],
      "text/plain": [
       "  (Intercept) X E2 E3 M1\n",
       "1 1           1 0  0  1 \n",
       "2 1           1 0  1  0 \n",
       "3 1           1 0  1  1 \n",
       "4 1           1 1  0  0 \n",
       "5 1           1 0  1  0 \n",
       "6 1           2 1  0  1 "
      ]
     },
     "metadata": {},
     "output_type": "display_data"
    }
   ],
   "source": [
    "url = 'http://stats191.stanford.edu/data/salary.table'\n",
    "salary.table = read.table(url, header=T)\n",
    "salary.table$E = factor(salary.table$E)\n",
    "salary.table$M = factor(salary.table$M)\n",
    "salary.lm = lm(S ~ X + E + M, salary.table)\n",
    "head(model.matrix(salary.lm))"
   ]
  },
  {
   "cell_type": "markdown",
   "metadata": {
    "slideshow": {
     "slide_type": "slide"
    }
   },
   "source": [
    "## ANOVA models\n",
    "\n",
    "* Often, especially in experimental settings, we record\n",
    "*only* categorical variables. \n",
    "\n",
    "* Such models are often referred to *ANOVA (Analysis of Variance)* models.\n",
    "\n",
    "* These are generalizations of our favorite example, the two sample $t$-test."
   ]
  },
  {
   "cell_type": "markdown",
   "metadata": {
    "slideshow": {
     "slide_type": "slide"
    }
   },
   "source": [
    "## Example: recovery time\n",
    "\n",
    "* Suppose we want to understand the relationship between\n",
    "recovery time after surgery based on an patient's prior fitness.\n",
    "\n",
    "* We group patients into three fitness levels: below average, average, above average.\n",
    "\n",
    "* If you are in better shape before surgery, does it take less time to\n",
    "  recover?"
   ]
  },
  {
   "cell_type": "code",
   "execution_count": 3,
   "metadata": {
    "collapsed": false,
    "slideshow": {
     "slide_type": "fragment"
    }
   },
   "outputs": [
    {
     "data": {
      "text/html": [
       "<table>\n",
       "<thead><tr><th scope=col>Fitness</th><th scope=col>Time</th></tr></thead>\n",
       "<tbody>\n",
       "\t<tr><td>1 </td><td>29</td></tr>\n",
       "\t<tr><td>1 </td><td>42</td></tr>\n",
       "\t<tr><td>1 </td><td>38</td></tr>\n",
       "\t<tr><td>1 </td><td>40</td></tr>\n",
       "\t<tr><td>1 </td><td>43</td></tr>\n",
       "\t<tr><td>1 </td><td>40</td></tr>\n",
       "</tbody>\n",
       "</table>\n"
      ],
      "text/latex": [
       "\\begin{tabular}{r|ll}\n",
       " Fitness & Time\\\\\n",
       "\\hline\n",
       "\t 1  & 29\\\\\n",
       "\t 1  & 42\\\\\n",
       "\t 1  & 38\\\\\n",
       "\t 1  & 40\\\\\n",
       "\t 1  & 43\\\\\n",
       "\t 1  & 40\\\\\n",
       "\\end{tabular}\n"
      ],
      "text/plain": [
       "  Fitness Time\n",
       "1 1       29  \n",
       "2 1       42  \n",
       "3 1       38  \n",
       "4 1       40  \n",
       "5 1       43  \n",
       "6 1       40  "
      ]
     },
     "metadata": {},
     "output_type": "display_data"
    }
   ],
   "source": [
    "url = 'http://stats191.stanford.edu/data/rehab.csv'\n",
    "rehab.table = read.table(url, header=T, sep=',')\n",
    "rehab.table$Fitness <- factor(rehab.table$Fitness) \n",
    "head(rehab.table)"
   ]
  },
  {
   "cell_type": "code",
   "execution_count": 4,
   "metadata": {
    "collapsed": false,
    "slideshow": {
     "slide_type": "slide"
    }
   },
   "outputs": [
    {
     "data": {
      "image/png": "[encoded data removed]",
      "text/plain": [
       "plot without title"
      ]
     },
     "metadata": {},
     "output_type": "display_data"
    }
   ],
   "source": [
    "attach(rehab.table)\n",
    "boxplot(Time ~ Fitness, col=c('red','green','blue'))"
   ]
  },
  {
   "cell_type": "markdown",
   "metadata": {
    "slideshow": {
     "slide_type": "slide"
    }
   },
   "source": [
    "## One-way ANOVA\n",
    "\n",
    "*   First generalization of two sample $t$-test: more than two groups.\n",
    "\n",
    "* Observations are broken up into $r$ groups with $n_i, 1 \\leq i \\leq r$ observations per group.\n",
    "\n",
    "*  Model:\n",
    "    $$Y_{ij} = \\mu  + \\alpha_i + \\varepsilon_{ij}, \\qquad \\varepsilon_{ij} \\sim N(0, \\sigma^2).$$\n",
    "\n",
    "*   Constraint: $\\sum_{i=1}^r \\alpha_i = 0$. This constraint is needed\n",
    "    for “identifiability”. This is “equivalent” to only adding $r-1$\n",
    "    columns to the design matrix for this qualitative variable.\n",
    " "
   ]
  },
  {
   "cell_type": "markdown",
   "metadata": {
    "slideshow": {
     "slide_type": "slide"
    }
   },
   "source": [
    "## One-way ANOVA\n",
    "\n",
    "* This is not the same *parameterization* we get when only adding $r-1$ 0-1 columns, but it gives the same *model*.\n",
    "\n",
    "* The estimates of $\\alpha$ can be obtained from the estimates\n",
    "of $\\beta$ using `R`'s default parameters.\n",
    "\n",
    "* For a more detailed exploration into `R`'s creation of design matrices,\n",
    "try reading the following [tutorial on design matrices](http://nbviewer.ipython.org/github/fperez/nipy-notebooks/blob/master/exploring_r_formula.ipynb)."
   ]
  },
  {
   "cell_type": "markdown",
   "metadata": {
    "slideshow": {
     "slide_type": "slide"
    }
   },
   "source": [
    "## Remember, it's still a model (i.e. a plane)\n",
    "\n",
    "<img src=\"http://stats191.stanford.edu/figs/axes_multiple_full.svg\"  width=\"700\">\n"
   ]
  },
  {
   "cell_type": "markdown",
   "metadata": {
    "slideshow": {
     "slide_type": "slide"
    }
   },
   "source": [
    "## Fitting the model\n",
    "\n",
    "\n",
    "-   Model is easy to fit:\n",
    "    $$\\widehat{Y}_{ij} = \\frac{1}{n_i} \\sum_{j=1}^{n_i} Y_{ij} = \\overline{Y}_{i\\cdot}$$\n",
    "    If observation is in $i$-th group: predicted mean is just the sample\n",
    "    mean of observations in $i$-th group.\n",
    "\n",
    "-   Simplest question: is there any group (main) effect?\n",
    " $$H_0:\\alpha_1 = \\dots = \\alpha_r= 0?$$\n",
    "\n",
    "-   Test is based on $F$-test with full model vs. reduced model. Reduced\n",
    "    model just has an intercept.\n",
    "\n",
    "-   Other questions: is the effect the same in groups 1 and 2?\n",
    "    $$H_0:\\alpha_1=\\alpha_2?$$\n"
   ]
  },
  {
   "cell_type": "code",
   "execution_count": 5,
   "metadata": {
    "collapsed": false,
    "slideshow": {
     "slide_type": "slide"
    }
   },
   "outputs": [
    {
     "data": {
      "text/plain": [
       "\n",
       "Call:\n",
       "lm(formula = Time ~ Fitness)\n",
       "\n",
       "Residuals:\n",
       "   Min     1Q Median     3Q    Max \n",
       "  -9.0   -3.0   -0.5    3.0    8.0 \n",
       "\n",
       "Coefficients:\n",
       "            Estimate Std. Error t value Pr(>|t|)    \n",
       "(Intercept)   38.000      1.574  24.149  < 2e-16 ***\n",
       "Fitness2      -6.000      2.111  -2.842  0.00976 ** \n",
       "Fitness3     -14.000      2.404  -5.824 8.81e-06 ***\n",
       "---\n",
       "Signif. codes:  0 ‘***’ 0.001 ‘**’ 0.01 ‘*’ 0.05 ‘.’ 0.1 ‘ ’ 1\n",
       "\n",
       "Residual standard error: 4.451 on 21 degrees of freedom\n",
       "Multiple R-squared:  0.6176,\tAdjusted R-squared:  0.5812 \n",
       "F-statistic: 16.96 on 2 and 21 DF,  p-value: 4.129e-05\n"
      ]
     },
     "metadata": {},
     "output_type": "display_data"
    }
   ],
   "source": [
    "rehab.lm <- lm(Time ~ Fitness)\n",
    "summary(rehab.lm)"
   ]
  },
  {
   "cell_type": "code",
   "execution_count": 6,
   "metadata": {
    "collapsed": false,
    "slideshow": {
     "slide_type": "slide"
    }
   },
   "outputs": [
    {
     "name": "stdout",
     "output_type": "stream",
     "text": [
      " 1  2  3 \n",
      "38 32 24 \n"
     ]
    },
    {
     "data": {
      "text/html": [
       "<ol class=list-inline>\n",
       "\t<li>38</li>\n",
       "\t<li>32</li>\n",
       "\t<li>24</li>\n",
       "</ol>\n"
      ],
      "text/latex": [
       "\\begin{enumerate*}\n",
       "\\item 38\n",
       "\\item 32\n",
       "\\item 24\n",
       "\\end{enumerate*}\n"
      ],
      "text/markdown": [
       "1. 38\n",
       "2. 32\n",
       "3. 24\n",
       "\n",
       "\n"
      ],
      "text/plain": [
       "[1] 38 32 24"
      ]
     },
     "metadata": {},
     "output_type": "display_data"
    }
   ],
   "source": [
    "print(predict(rehab.lm, list(Fitness=factor(c(1,2,3)))))\n",
    "c(mean(Time[Fitness == 1]), mean(Time[Fitness == 2]), mean(Time[Fitness == 3]))"
   ]
  },
  {
   "cell_type": "markdown",
   "metadata": {
    "slideshow": {
     "slide_type": "slide"
    }
   },
   "source": [
    "Recall that the rows of the `Coefficients` table above do not\n",
    "correspond to the $\\alpha$ parameter. For one thing, we would see \n",
    "three $\\alpha$'s and their sum would have to be equal to 0.\n",
    "\n",
    "Also, the design matrix is the indicator coding we saw last time."
   ]
  },
  {
   "cell_type": "code",
   "execution_count": 7,
   "metadata": {
    "collapsed": false,
    "slideshow": {
     "slide_type": "fragment"
    }
   },
   "outputs": [
    {
     "data": {
      "text/html": [
       "<table>\n",
       "<thead><tr><th></th><th scope=col>(Intercept)</th><th scope=col>Fitness2</th><th scope=col>Fitness3</th></tr></thead>\n",
       "<tbody>\n",
       "\t<tr><th scope=row>1</th><td>1</td><td>0</td><td>0</td></tr>\n",
       "\t<tr><th scope=row>2</th><td>1</td><td>0</td><td>0</td></tr>\n",
       "\t<tr><th scope=row>3</th><td>1</td><td>0</td><td>0</td></tr>\n",
       "\t<tr><th scope=row>4</th><td>1</td><td>0</td><td>0</td></tr>\n",
       "\t<tr><th scope=row>5</th><td>1</td><td>0</td><td>0</td></tr>\n",
       "\t<tr><th scope=row>6</th><td>1</td><td>0</td><td>0</td></tr>\n",
       "</tbody>\n",
       "</table>\n"
      ],
      "text/latex": [
       "\\begin{tabular}{r|lll}\n",
       "  & (Intercept) & Fitness2 & Fitness3\\\\\n",
       "\\hline\n",
       "\t1 & 1 & 0 & 0\\\\\n",
       "\t2 & 1 & 0 & 0\\\\\n",
       "\t3 & 1 & 0 & 0\\\\\n",
       "\t4 & 1 & 0 & 0\\\\\n",
       "\t5 & 1 & 0 & 0\\\\\n",
       "\t6 & 1 & 0 & 0\\\\\n",
       "\\end{tabular}\n"
      ],
      "text/markdown": [
       "1. 1\n",
       "2. 1\n",
       "3. 1\n",
       "4. 1\n",
       "5. 1\n",
       "6. 1\n",
       "7. 0\n",
       "8. 0\n",
       "9. 0\n",
       "10. 0\n",
       "11. 0\n",
       "12. 0\n",
       "13. 0\n",
       "14. 0\n",
       "15. 0\n",
       "16. 0\n",
       "17. 0\n",
       "18. 0\n",
       "\n",
       "\n"
      ],
      "text/plain": [
       "  (Intercept) Fitness2 Fitness3\n",
       "1 1           0        0       \n",
       "2 1           0        0       \n",
       "3 1           0        0       \n",
       "4 1           0        0       \n",
       "5 1           0        0       \n",
       "6 1           0        0       "
      ]
     },
     "metadata": {},
     "output_type": "display_data"
    }
   ],
   "source": [
    "head(model.matrix(rehab.lm))"
   ]
  },
  {
   "cell_type": "markdown",
   "metadata": {
    "slideshow": {
     "slide_type": "slide"
    }
   },
   "source": [
    "* There are ways to get *different* design matrices by using the\n",
    "`contrasts` argument. This is a bit above our pay grade at the moment.\n",
    "\n",
    "* Upon inspection of the design matrix above, we see that\n",
    "the `(Intercept)` coefficient corresponds to the mean in `Fitness==1`, while\n",
    "`Fitness==2` coefficient corresponds to the difference between the groups \n",
    "`Fitness==2` and `Fitness==1`."
   ]
  },
  {
   "cell_type": "markdown",
   "metadata": {
    "slideshow": {
     "slide_type": "slide"
    }
   },
   "source": [
    "## ANOVA table\n",
    "\n",
    "Much of the information in an ANOVA model is contained in the \n",
    "ANOVA table.\n",
    "\n",
    "<table>\n",
    "<tr><td>Source</td><td width=\"300\">SS</td><td width=\"100\">df</td><td width=\"100\">$\\mathbb{E}(MS)$</td></tr>\n",
    "<tr><td>Treatment</td><td>$SSTR=\\sum_{i=1}^r n_i \\left(\\overline{Y}_{i\\cdot} - \\overline{Y}_{\\cdot\\cdot}\\right)^2$</td><td>r-1</td><td>$\\sigma^2 + \\frac{\\sum_{i=1}^r n_i \\alpha_i^2}{r-1}$</td></tr>\n",
    "<tr><td>Error</td><td>$SSE=\\sum_{i=1}^r \\sum_{j=1}^{n_i}(Y_{ij} - \\overline{Y}_{i\\cdot})^2$</td>\n",
    "<td>$\\sum_{i=1}^r (n_i - 1)$</td><td>$\\sigma^2$</td></tr>\n",
    "</table>"
   ]
  },
  {
   "cell_type": "code",
   "execution_count": 8,
   "metadata": {
    "collapsed": false,
    "slideshow": {
     "slide_type": "fragment"
    }
   },
   "outputs": [
    {
     "data": {
      "text/html": [
       "<table>\n",
       "<thead><tr><th></th><th scope=col>Df</th><th scope=col>Sum Sq</th><th scope=col>Mean Sq</th><th scope=col>F value</th><th scope=col>Pr(&gt;F)</th></tr></thead>\n",
       "<tbody>\n",
       "\t<tr><th scope=row>Fitness</th><td> 2          </td><td>672         </td><td>336.00000   </td><td>16.96154    </td><td>4.129301e-05</td></tr>\n",
       "\t<tr><th scope=row>Residuals</th><td>21          </td><td>416         </td><td> 19.80952   </td><td>      NA    </td><td>          NA</td></tr>\n",
       "</tbody>\n",
       "</table>\n"
      ],
      "text/latex": [
       "\\begin{tabular}{r|lllll}\n",
       "  & Df & Sum Sq & Mean Sq & F value & Pr(>F)\\\\\n",
       "\\hline\n",
       "\tFitness &  2           & 672          & 336.00000    & 16.96154     & 4.129301e-05\\\\\n",
       "\tResiduals & 21           & 416          &  19.80952    &       NA     &           NA\\\\\n",
       "\\end{tabular}\n"
      ],
      "text/plain": [
       "          Df Sum Sq Mean Sq   F value  Pr(>F)      \n",
       "Fitness    2 672    336.00000 16.96154 4.129301e-05\n",
       "Residuals 21 416     19.80952       NA           NA"
      ]
     },
     "metadata": {},
     "output_type": "display_data"
    }
   ],
   "source": [
    "anova(rehab.lm)"
   ]
  },
  {
   "cell_type": "markdown",
   "metadata": {
    "slideshow": {
     "slide_type": "slide"
    }
   },
   "source": [
    "-   Note that $MSTR$ measures “variability” of the “cell” means. If\n",
    "    there is a group effect we expect this to be large relative to\n",
    "    $MSE$.\n",
    "\n",
    "-   We see that under $H_0:\\alpha_1=\\dots=\\alpha_r=0$, the expected\n",
    "    value of $MSTR$ and $MSE$ is $\\sigma^2$. This tells us how to test\n",
    "    $H_0$ using ratio of mean squares, i.e. an $F$ test.\n",
    "\n"
   ]
  },
  {
   "cell_type": "markdown",
   "metadata": {
    "slideshow": {
     "slide_type": "slide"
    }
   },
   "source": [
    "## Testing for any main effect\n",
    "\n",
    "\n",
    "-   Rows in the ANOVA table are, in general, independent.\n",
    "\n",
    "-   Therefore, under $H_0$\n",
    "    $$F = \\frac{MSTR}{MSE} = \\frac{\\frac{SSTR}{df_{TR}}}{\\frac{SSE}{df_{E}}} \\sim F_{df_{TR}, df_E}$$\n",
    "    the degrees of freedom come from the $df$ column in previous table.\n",
    "\n",
    "-   Reject $H_0$ at level $\\alpha$ if\n",
    "    $F > F_{1-\\alpha, df_{TR}, df_{E}}.$\n"
   ]
  },
  {
   "cell_type": "code",
   "execution_count": 9,
   "metadata": {
    "collapsed": false,
    "slideshow": {
     "slide_type": "fragment"
    }
   },
   "outputs": [
    {
     "name": "stdout",
     "output_type": "stream",
     "text": [
      "         F         pval\n",
      "1 16.96113 4.129945e-05\n"
     ]
    }
   ],
   "source": [
    "F = 336.00 / 19.81\n",
    "pval = 1 - pf(F, 2, 21)\n",
    "print(data.frame(F,pval))"
   ]
  },
  {
   "cell_type": "markdown",
   "metadata": {
    "slideshow": {
     "slide_type": "slide"
    }
   },
   "source": [
    "## Inference for linear combinations\n",
    "\n",
    "- Suppose we want to ``infer'' something about\n",
    "   $$                                                                           \n",
    "   \\sum_{i=1}^r a_i \\mu_i$$\n",
    "   where $\\mu_i = \\mu+\\alpha_i$ is the mean in the $i$-th group.\n",
    "   For example:\n",
    "   $$\n",
    "   H_0:\\mu_1-\\mu_2=0 \\qquad \\text{(same as $H_0:\\alpha_1-\\alpha_2=0$)}?$$       \n",
    "- For example:\n",
    "\n",
    "    Is there a difference between below average and average groups in \n",
    "    terms of rehab time?                                                                      "
   ]
  },
  {
   "cell_type": "markdown",
   "metadata": {
    "slideshow": {
     "slide_type": "slide"
    }
   },
   "source": [
    "## Inference for linear combinations\n",
    "\n",
    "\n",
    "- We need to know $$\n",
    "   \\text{Var}\\left(\\sum_{i=1}^r a_i \\overline{Y}_{i\\cdot} \\right) = \\sigma^2 \n",
    "   \\sum_{i=1}^r \\frac{a_i^2}{n_i}.$$\n",
    "   \n",
    "- After this, the usual confidence intervals and $t$-tests apply."
   ]
  },
  {
   "cell_type": "code",
   "execution_count": 10,
   "metadata": {
    "collapsed": false,
    "slideshow": {
     "slide_type": "slide"
    }
   },
   "outputs": [
    {
     "data": {
      "text/html": [
       "<table>\n",
       "<thead><tr><th></th><th scope=col>(Intercept)</th><th scope=col>Fitness2</th><th scope=col>Fitness3</th></tr></thead>\n",
       "<tbody>\n",
       "\t<tr><th scope=row>1</th><td>1</td><td>0</td><td>0</td></tr>\n",
       "\t<tr><th scope=row>2</th><td>1</td><td>0</td><td>0</td></tr>\n",
       "\t<tr><th scope=row>3</th><td>1</td><td>0</td><td>0</td></tr>\n",
       "\t<tr><th scope=row>4</th><td>1</td><td>0</td><td>0</td></tr>\n",
       "\t<tr><th scope=row>5</th><td>1</td><td>0</td><td>0</td></tr>\n",
       "\t<tr><th scope=row>6</th><td>1</td><td>0</td><td>0</td></tr>\n",
       "</tbody>\n",
       "</table>\n"
      ],
      "text/latex": [
       "\\begin{tabular}{r|lll}\n",
       "  & (Intercept) & Fitness2 & Fitness3\\\\\n",
       "\\hline\n",
       "\t1 & 1 & 0 & 0\\\\\n",
       "\t2 & 1 & 0 & 0\\\\\n",
       "\t3 & 1 & 0 & 0\\\\\n",
       "\t4 & 1 & 0 & 0\\\\\n",
       "\t5 & 1 & 0 & 0\\\\\n",
       "\t6 & 1 & 0 & 0\\\\\n",
       "\\end{tabular}\n"
      ],
      "text/markdown": [
       "1. 1\n",
       "2. 1\n",
       "3. 1\n",
       "4. 1\n",
       "5. 1\n",
       "6. 1\n",
       "7. 0\n",
       "8. 0\n",
       "9. 0\n",
       "10. 0\n",
       "11. 0\n",
       "12. 0\n",
       "13. 0\n",
       "14. 0\n",
       "15. 0\n",
       "16. 0\n",
       "17. 0\n",
       "18. 0\n",
       "\n",
       "\n"
      ],
      "text/plain": [
       "  (Intercept) Fitness2 Fitness3\n",
       "1 1           0        0       \n",
       "2 1           0        0       \n",
       "3 1           0        0       \n",
       "4 1           0        0       \n",
       "5 1           0        0       \n",
       "6 1           0        0       "
      ]
     },
     "metadata": {},
     "output_type": "display_data"
    }
   ],
   "source": [
    "head(model.matrix(rehab.lm))"
   ]
  },
  {
   "cell_type": "markdown",
   "metadata": {
    "slideshow": {
     "slide_type": "fragment"
    }
   },
   "source": [
    "This means that the coefficient Fitness2 is the estimated\n",
    "   difference between the two groups.\n",
    "\n",
    "   "
   ]
  },
  {
   "cell_type": "code",
   "execution_count": 11,
   "metadata": {
    "collapsed": false,
    "slideshow": {
     "slide_type": "fragment"
    }
   },
   "outputs": [],
   "source": [
    "detach(rehab.table)"
   ]
  },
  {
   "cell_type": "markdown",
   "metadata": {
    "slideshow": {
     "slide_type": "slide"
    }
   },
   "source": [
    "## Two-way ANOVA\n",
    "\n",
    "Often, we will have more than one variable we are changing.\n",
    "\n",
    "### Example\n",
    "\n",
    "After kidney failure, we suppose that the time of stay in hospital depends on weight gain between treatments and duration of treatment. \n",
    "\n",
    "We will model the `log` number of days as a function of the other\n",
    "two factors.\n",
    "\n",
    "<table>\n",
    "<tr><td><b>Variable</b></td><td><b>Description</b></td></tr>\n",
    "<tr><td>Days</td><td>Duration of hospital stay</td></tr>\n",
    "<tr><td>Weight</td><td>How much weight is gained?</td></tr>\n",
    "<tr><td>Duration</td><td>How long under treatment for kidney problems? (two levels)</td></tr>\n",
    "</table>"
   ]
  },
  {
   "cell_type": "code",
   "execution_count": 12,
   "metadata": {
    "collapsed": false,
    "slideshow": {
     "slide_type": "slide"
    }
   },
   "outputs": [
    {
     "data": {
      "text/html": [
       "<table>\n",
       "<thead><tr><th scope=col>Days</th><th scope=col>Duration</th><th scope=col>Weight</th><th scope=col>ID</th><th scope=col>D</th><th scope=col>W</th><th scope=col>logDays</th></tr></thead>\n",
       "<tbody>\n",
       "\t<tr><td>0        </td><td>1        </td><td>1        </td><td>1        </td><td>1        </td><td>1        </td><td>0.0000000</td></tr>\n",
       "\t<tr><td>2        </td><td>1        </td><td>1        </td><td>2        </td><td>1        </td><td>1        </td><td>1.0986123</td></tr>\n",
       "\t<tr><td>1        </td><td>1        </td><td>1        </td><td>3        </td><td>1        </td><td>1        </td><td>0.6931472</td></tr>\n",
       "\t<tr><td>3        </td><td>1        </td><td>1        </td><td>4        </td><td>1        </td><td>1        </td><td>1.3862944</td></tr>\n",
       "\t<tr><td>0        </td><td>1        </td><td>1        </td><td>5        </td><td>1        </td><td>1        </td><td>0.0000000</td></tr>\n",
       "\t<tr><td>2        </td><td>1        </td><td>1        </td><td>6        </td><td>1        </td><td>1        </td><td>1.0986123</td></tr>\n",
       "</tbody>\n",
       "</table>\n"
      ],
      "text/latex": [
       "\\begin{tabular}{r|lllllll}\n",
       " Days & Duration & Weight & ID & D & W & logDays\\\\\n",
       "\\hline\n",
       "\t 0         & 1         & 1         & 1         & 1         & 1         & 0.0000000\\\\\n",
       "\t 2         & 1         & 1         & 2         & 1         & 1         & 1.0986123\\\\\n",
       "\t 1         & 1         & 1         & 3         & 1         & 1         & 0.6931472\\\\\n",
       "\t 3         & 1         & 1         & 4         & 1         & 1         & 1.3862944\\\\\n",
       "\t 0         & 1         & 1         & 5         & 1         & 1         & 0.0000000\\\\\n",
       "\t 2         & 1         & 1         & 6         & 1         & 1         & 1.0986123\\\\\n",
       "\\end{tabular}\n"
      ],
      "text/plain": [
       "  Days Duration Weight ID D W logDays  \n",
       "1 0    1        1      1  1 1 0.0000000\n",
       "2 2    1        1      2  1 1 1.0986123\n",
       "3 1    1        1      3  1 1 0.6931472\n",
       "4 3    1        1      4  1 1 1.3862944\n",
       "5 0    1        1      5  1 1 0.0000000\n",
       "6 2    1        1      6  1 1 1.0986123"
      ]
     },
     "metadata": {},
     "output_type": "display_data"
    }
   ],
   "source": [
    "url = 'http://statweb.stanford.edu/~jtaylo/stats191/data/kidney.table'\n",
    "kidney.table = read.table(url, header=T)\n",
    "kidney.table$D = factor(kidney.table$Duration)\n",
    "kidney.table$W = factor(kidney.table$Weight)\n",
    "kidney.table$logDays = log(kidney.table$Days + 1) \n",
    "attach(kidney.table)\n",
    "head(kidney.table)"
   ]
  },
  {
   "cell_type": "markdown",
   "metadata": {
    "slideshow": {
     "slide_type": "slide"
    }
   },
   "source": [
    "### Two-way ANOVA model\n",
    "\n",
    "-   Second generalization of $t$-test: more than one grouping variable.\n",
    "\n",
    "-   Two-way ANOVA model: \n",
    "    - $r$ groups in first factor\n",
    "    - $m$ groups in second factor\n",
    "    - $n_{ij}$ in each combination of factor variables.\n",
    "\n",
    "- Model: \n",
    "    $$Y_{ijk} = \\mu + \\alpha_i + \\beta_j + (\\alpha \\beta)_{ij} +         \n",
    "    \\varepsilon_{ijk} , \\qquad \\varepsilon_{ijk} \\sim N(0, \\sigma^2).$$\n",
    "\n",
    "-   In kidney example, $r=3$ (weight gain), $m=2$ (duration of\n",
    "    treatment), $n_{ij}=10$ for all $(i,j)$.\n"
   ]
  },
  {
   "cell_type": "markdown",
   "metadata": {
    "slideshow": {
     "slide_type": "slide"
    }
   },
   "source": [
    "### Questions of interest\n",
    "\n",
    "\n",
    "Two-way ANOVA: main questions of interest\n",
    "\n",
    "-   Are there main effects for the grouping variables?\n",
    "    $$H_0:\\alpha_1 = \\dots = \\alpha_r = 0, \\qquad H_0: \\beta_1 = \\dots = \\beta_m = 0.$$\n",
    "\n",
    "-   Are there interaction effects:\n",
    "    $$H_0:(\\alpha\\beta)_{ij} = 0, 1 \\leq i \\leq r, 1 \\leq j \\leq m.$$"
   ]
  },
  {
   "cell_type": "markdown",
   "metadata": {
    "slideshow": {
     "slide_type": "slide"
    }
   },
   "source": [
    "### Interactions between factors\n",
    "\n",
    "We've already seen these interactions in the IT salary example. \n",
    "\n",
    "- An *additive model* says that the effects of the two factors\n",
    "occur additively -- such a model has no interactions.\n",
    "\n",
    "- An *interaction* is present whenever the additive model does not hold."
   ]
  },
  {
   "cell_type": "markdown",
   "metadata": {
    "slideshow": {
     "slide_type": "slide"
    }
   },
   "source": [
    "### Interaction plot\n",
    "\n",
    "When these broken lines are not parallel, there is evidence of an interaction.\n",
    "The one thing missing from this plot are errorbars. The above broken lines\n",
    "are clearly not parallel but there is measurement error. If the\n",
    "error bars were large then we might consider there to be no interaction, otherwise we might."
   ]
  },
  {
   "cell_type": "code",
   "execution_count": 13,
   "metadata": {
    "collapsed": false,
    "slideshow": {
     "slide_type": "fragment"
    }
   },
   "outputs": [
    {
     "data": {
      "image/png": "[encoded data removed]",
      "text/plain": [
       "plot without title"
      ]
     },
     "metadata": {},
     "output_type": "display_data"
    }
   ],
   "source": [
    "interaction.plot(W, D, logDays, type='b', col=c('red',\n",
    "                  'blue'), lwd=2, pch=c(23,24))"
   ]
  },
  {
   "cell_type": "markdown",
   "metadata": {
    "slideshow": {
     "slide_type": "slide"
    }
   },
   "source": [
    "### Parameterization\n",
    "\n",
    "-   Many constraints are needed, again for identifiability. Let’s not\n",
    "    worry too much about the details\n",
    "\n",
    "-   Constraints:\n",
    "\n",
    "    -   $\\sum_{i=1}^r \\alpha_i = 0$\n",
    "\n",
    "    -   $\\sum_{j=1}^m \\beta_j = 0$\n",
    "\n",
    "    -   $\\sum_{j=1}^m (\\alpha\\beta)_{ij} = 0, 1 \\leq i \\leq r$\n",
    "\n",
    "    -   $\\sum_{i=1}^r (\\alpha\\beta)_{ij} = 0, 1 \\leq j \\leq m.$\n",
    "\n",
    "- We should convince ourselves that we know have exactly $r*m$ free parameters."
   ]
  },
  {
   "cell_type": "markdown",
   "metadata": {
    "slideshow": {
     "slide_type": "slide"
    }
   },
   "source": [
    "### Fitting the model\n",
    "\n",
    "-   Easy to fit when $n_{ij}=n$ (balanced)\n",
    "    $$\\widehat{Y}_{ijk}= \\overline{Y}_{ij\\cdot} = \\frac{1}{n}\\sum_{k=1}^{n} Y_{ijk}.$$\n",
    "\n",
    "-   Inference for combinations\n",
    "    $$\\text{Var} \\left(\\sum_{i=1}^r \\sum_{j=1}^m a_{ij} \\overline{Y}_{ij\\cdot}\\right) = \\frac{ \\sigma^2}{n} \\cdot \\sum_{i=1}^r \\sum_{j=1}^m{a_{ij}^2}.$$\n",
    "\n",
    "-   Usual $t$-tests, confidence intervals.\n"
   ]
  },
  {
   "cell_type": "code",
   "execution_count": 37,
   "metadata": {
    "collapsed": false,
    "slideshow": {
     "slide_type": "fragment"
    }
   },
   "outputs": [
    {
     "data": {
      "text/html": [
       "<table>\n",
       "<thead><tr><th></th><th scope=col>(Intercept)</th><th scope=col>D2</th><th scope=col>W2</th><th scope=col>W3</th><th scope=col>D2:W2</th><th scope=col>D2:W3</th></tr></thead>\n",
       "<tbody>\n",
       "\t<tr><th scope=row>(Intercept)</th><td>60</td><td>30</td><td>20</td><td>20</td><td>10</td><td>10</td></tr>\n",
       "\t<tr><th scope=row>D2</th><td>30</td><td>30</td><td>10</td><td>10</td><td>10</td><td>10</td></tr>\n",
       "\t<tr><th scope=row>W2</th><td>20</td><td>10</td><td>20</td><td> 0</td><td>10</td><td> 0</td></tr>\n",
       "\t<tr><th scope=row>W3</th><td>20</td><td>10</td><td> 0</td><td>20</td><td> 0</td><td>10</td></tr>\n",
       "\t<tr><th scope=row>D2:W2</th><td>10</td><td>10</td><td>10</td><td> 0</td><td>10</td><td> 0</td></tr>\n",
       "\t<tr><th scope=row>D2:W3</th><td>10</td><td>10</td><td> 0</td><td>10</td><td> 0</td><td>10</td></tr>\n",
       "</tbody>\n",
       "</table>\n"
      ],
      "text/latex": [
       "\\begin{tabular}{r|llllll}\n",
       "  & (Intercept) & D2 & W2 & W3 & D2:W2 & D2:W3\\\\\n",
       "\\hline\n",
       "\t(Intercept) & 60 & 30 & 20 & 20 & 10 & 10\\\\\n",
       "\tD2 & 30 & 30 & 10 & 10 & 10 & 10\\\\\n",
       "\tW2 & 20 & 10 & 20 &  0 & 10 &  0\\\\\n",
       "\tW3 & 20 & 10 &  0 & 20 &  0 & 10\\\\\n",
       "\tD2:W2 & 10 & 10 & 10 &  0 & 10 &  0\\\\\n",
       "\tD2:W3 & 10 & 10 &  0 & 10 &  0 & 10\\\\\n",
       "\\end{tabular}\n"
      ],
      "text/markdown": [
       "1. 60\n",
       "2. 30\n",
       "3. 20\n",
       "4. 20\n",
       "5. 10\n",
       "6. 10\n",
       "7. 30\n",
       "8. 30\n",
       "9. 10\n",
       "10. 10\n",
       "11. 10\n",
       "12. 10\n",
       "13. 20\n",
       "14. 10\n",
       "15. 20\n",
       "16. 0\n",
       "17. 10\n",
       "18. 0\n",
       "19. 20\n",
       "20. 10\n",
       "21. 0\n",
       "22. 20\n",
       "23. 0\n",
       "24. 10\n",
       "25. 10\n",
       "26. 10\n",
       "27. 10\n",
       "28. 0\n",
       "29. 10\n",
       "30. 0\n",
       "31. 10\n",
       "32. 10\n",
       "33. 0\n",
       "34. 10\n",
       "35. 0\n",
       "36. 10\n",
       "\n",
       "\n"
      ],
      "text/plain": [
       "            (Intercept) D2 W2 W3 D2:W2 D2:W3\n",
       "(Intercept) 60          30 20 20 10    10   \n",
       "D2          30          30 10 10 10    10   \n",
       "W2          20          10 20  0 10     0   \n",
       "W3          20          10  0 20  0    10   \n",
       "D2:W2       10          10 10  0 10     0   \n",
       "D2:W3       10          10  0 10  0    10   "
      ]
     },
     "metadata": {},
     "output_type": "display_data"
    },
    {
     "data": {
      "text/plain": [
       "\n",
       "Call:\n",
       "lm(formula = logDays ~ D * W)\n",
       "\n",
       "Residuals:\n",
       "     Min       1Q   Median       3Q      Max \n",
       "-1.33772 -0.51121  0.06302  0.62926  1.17950 \n",
       "\n",
       "Coefficients:\n",
       "            Estimate Std. Error t value Pr(>|t|)    \n",
       "(Intercept)   1.0212     0.2317   4.407 5.01e-05 ***\n",
       "D2           -0.1042     0.3277  -0.318   0.7517    \n",
       "W2            0.8439     0.3277   2.575   0.0128 *  \n",
       "W3            1.5271     0.3277   4.661 2.10e-05 ***\n",
       "D2:W2        -0.4231     0.4634  -0.913   0.3653    \n",
       "D2:W3        -0.4491     0.4634  -0.969   0.3368    \n",
       "---\n",
       "Signif. codes:  0 ‘***’ 0.001 ‘**’ 0.01 ‘*’ 0.05 ‘.’ 0.1 ‘ ’ 1\n",
       "\n",
       "Residual standard error: 0.7327 on 54 degrees of freedom\n",
       "Multiple R-squared:  0.4076,\tAdjusted R-squared:  0.3528 \n",
       "F-statistic: 7.431 on 5 and 54 DF,  p-value: 2.301e-05\n"
      ]
     },
     "metadata": {},
     "output_type": "display_data"
    }
   ],
   "source": [
    "kidney.lm = lm(logDays ~ D*W, contrasts=list(D='contr.sum', W='contr.sum'))\n",
    "summary(kidney.lm)"
   ]
  },
  {
   "cell_type": "markdown",
   "metadata": {
    "slideshow": {
     "slide_type": "slide"
    }
   },
   "source": [
    "## Example\n",
    "\n",
    "* Suppose we are interested in comparing the mean in $(D=1,W=3)$ and $(D=2,W=2)$\n",
    "groups. The difference is\n",
    "$$\n",
    "E(\\bar{Y}_{13\\cdot}-\\bar{Y}_{22\\cdot})\n",
    "$$\n",
    "\n",
    "* By independence, its variance is \n",
    "$$\\text{Var}(\\bar{Y}_{13\\cdot}) + \\text{Var}(\\bar{Y}_{22\\cdot}) = \\frac{2 \\sigma^2}{n}.\n",
    "$$"
   ]
  },
  {
   "cell_type": "code",
   "execution_count": 15,
   "metadata": {
    "collapsed": false,
    "slideshow": {
     "slide_type": "fragment"
    }
   },
   "outputs": [
    {
     "name": "stdout",
     "output_type": "stream",
     "text": [
      "       1        2 \n",
      "2.548271 1.337719 \n"
     ]
    },
    {
     "data": {
      "text/html": [
       "<table>\n",
       "<thead><tr><th scope=col>fit</th><th scope=col>lower</th><th scope=col>upper</th></tr></thead>\n",
       "<tbody>\n",
       "\t<tr><td>1.210551 </td><td>0.5536058</td><td>1.867497 </td></tr>\n",
       "</tbody>\n",
       "</table>\n"
      ],
      "text/latex": [
       "\\begin{tabular}{r|lll}\n",
       " fit & lower & upper\\\\\n",
       "\\hline\n",
       "\t 1.210551  & 0.5536058 & 1.867497 \\\\\n",
       "\\end{tabular}\n"
      ],
      "text/plain": [
       "  fit      lower     upper   \n",
       "1 1.210551 0.5536058 1.867497"
      ]
     },
     "metadata": {},
     "output_type": "display_data"
    }
   ],
   "source": [
    "estimates = predict(kidney.lm, list(D=factor(c(1,2)), W=factor(c(3,2))))\n",
    "print(estimates)\n",
    "sigma.hat = 0.7327 # from table above\n",
    "n = 10 # ten observations per group\n",
    "fit = estimates[1] - estimates[2]\n",
    "upper = fit + qt(0.975, 54) * sqrt(2 * sigma.hat^2 / n)\n",
    "lower = fit - qt(0.975 ,54) * sqrt(2 * sigma.hat^2 / n)\n",
    "data.frame(fit,lower,upper)"
   ]
  },
  {
   "cell_type": "code",
   "execution_count": 34,
   "metadata": {
    "collapsed": false,
    "slideshow": {
     "slide_type": "slide"
    }
   },
   "outputs": [
    {
     "data": {
      "text/html": [
       "<table>\n",
       "<thead><tr><th></th><th scope=col>(Intercept)</th><th scope=col>D1</th><th scope=col>W1</th><th scope=col>W2</th><th scope=col>D1:W1</th><th scope=col>D1:W2</th></tr></thead>\n",
       "<tbody>\n",
       "\t<tr><th scope=row>1</th><td>1</td><td>1</td><td>1</td><td>0</td><td>1</td><td>0</td></tr>\n",
       "\t<tr><th scope=row>2</th><td>1</td><td>1</td><td>1</td><td>0</td><td>1</td><td>0</td></tr>\n",
       "\t<tr><th scope=row>3</th><td>1</td><td>1</td><td>1</td><td>0</td><td>1</td><td>0</td></tr>\n",
       "\t<tr><th scope=row>4</th><td>1</td><td>1</td><td>1</td><td>0</td><td>1</td><td>0</td></tr>\n",
       "\t<tr><th scope=row>5</th><td>1</td><td>1</td><td>1</td><td>0</td><td>1</td><td>0</td></tr>\n",
       "\t<tr><th scope=row>6</th><td>1</td><td>1</td><td>1</td><td>0</td><td>1</td><td>0</td></tr>\n",
       "</tbody>\n",
       "</table>\n"
      ],
      "text/latex": [
       "\\begin{tabular}{r|llllll}\n",
       "  & (Intercept) & D1 & W1 & W2 & D1:W1 & D1:W2\\\\\n",
       "\\hline\n",
       "\t1 & 1 & 1 & 1 & 0 & 1 & 0\\\\\n",
       "\t2 & 1 & 1 & 1 & 0 & 1 & 0\\\\\n",
       "\t3 & 1 & 1 & 1 & 0 & 1 & 0\\\\\n",
       "\t4 & 1 & 1 & 1 & 0 & 1 & 0\\\\\n",
       "\t5 & 1 & 1 & 1 & 0 & 1 & 0\\\\\n",
       "\t6 & 1 & 1 & 1 & 0 & 1 & 0\\\\\n",
       "\\end{tabular}\n"
      ],
      "text/markdown": [
       "1. 1\n",
       "2. 1\n",
       "3. 1\n",
       "4. 1\n",
       "5. 1\n",
       "6. 1\n",
       "7. 1\n",
       "8. 1\n",
       "9. 1\n",
       "10. 1\n",
       "11. 1\n",
       "12. 1\n",
       "13. 1\n",
       "14. 1\n",
       "15. 1\n",
       "16. 1\n",
       "17. 1\n",
       "18. 1\n",
       "19. 0\n",
       "20. 0\n",
       "21. 0\n",
       "22. 0\n",
       "23. 0\n",
       "24. 0\n",
       "25. 1\n",
       "26. 1\n",
       "27. 1\n",
       "28. 1\n",
       "29. 1\n",
       "30. 1\n",
       "31. 0\n",
       "32. 0\n",
       "33. 0\n",
       "34. 0\n",
       "35. 0\n",
       "36. 0\n",
       "\n",
       "\n"
      ],
      "text/plain": [
       "  (Intercept) D1 W1 W2 D1:W1 D1:W2\n",
       "1 1           1  1  0  1     0    \n",
       "2 1           1  1  0  1     0    \n",
       "3 1           1  1  0  1     0    \n",
       "4 1           1  1  0  1     0    \n",
       "5 1           1  1  0  1     0    \n",
       "6 1           1  1  0  1     0    "
      ]
     },
     "metadata": {},
     "output_type": "display_data"
    },
    {
     "data": {
      "text/html": [
       "<table>\n",
       "<thead><tr><th></th><th scope=col>(Intercept)</th><th scope=col>D1</th><th scope=col>W1</th><th scope=col>W2</th><th scope=col>D1:W1</th><th scope=col>D1:W2</th></tr></thead>\n",
       "<tbody>\n",
       "\t<tr><th scope=row>(Intercept)</th><td>0.008947283  </td><td> 0.000000e+00</td><td> 0.000000e+00</td><td> 0.000000e+00</td><td> 0.000000e+00</td><td> 0.000000e+00</td></tr>\n",
       "\t<tr><th scope=row>D1</th><td>0.000000000  </td><td> 8.947283e-03</td><td> 4.744905e-18</td><td>-2.564813e-18</td><td> 7.309718e-18</td><td>-4.231942e-18</td></tr>\n",
       "\t<tr><th scope=row>W1</th><td>0.000000000  </td><td> 4.744905e-18</td><td> 1.789457e-02</td><td>-8.947283e-03</td><td> 3.262061e-19</td><td> 1.106079e-18</td></tr>\n",
       "\t<tr><th scope=row>W2</th><td>0.000000000  </td><td>-2.564813e-18</td><td>-8.947283e-03</td><td> 1.789457e-02</td><td> 5.437162e-19</td><td>-2.719670e-18</td></tr>\n",
       "\t<tr><th scope=row>D1:W1</th><td>0.000000000  </td><td> 7.309718e-18</td><td> 3.262061e-19</td><td> 5.437162e-19</td><td> 1.789457e-02</td><td>-8.947283e-03</td></tr>\n",
       "\t<tr><th scope=row>D1:W2</th><td>0.000000000  </td><td>-4.231942e-18</td><td> 1.106079e-18</td><td>-2.719670e-18</td><td>-8.947283e-03</td><td> 1.789457e-02</td></tr>\n",
       "</tbody>\n",
       "</table>\n"
      ],
      "text/latex": [
       "\\begin{tabular}{r|llllll}\n",
       "  & (Intercept) & D1 & W1 & W2 & D1:W1 & D1:W2\\\\\n",
       "\\hline\n",
       "\t(Intercept) & 0.008947283   &  0.000000e+00 &  0.000000e+00 &  0.000000e+00 &  0.000000e+00 &  0.000000e+00\\\\\n",
       "\tD1 & 0.000000000   &  8.947283e-03 &  4.744905e-18 & -2.564813e-18 &  7.309718e-18 & -4.231942e-18\\\\\n",
       "\tW1 & 0.000000000   &  4.744905e-18 &  1.789457e-02 & -8.947283e-03 &  3.262061e-19 &  1.106079e-18\\\\\n",
       "\tW2 & 0.000000000   & -2.564813e-18 & -8.947283e-03 &  1.789457e-02 &  5.437162e-19 & -2.719670e-18\\\\\n",
       "\tD1:W1 & 0.000000000   &  7.309718e-18 &  3.262061e-19 &  5.437162e-19 &  1.789457e-02 & -8.947283e-03\\\\\n",
       "\tD1:W2 & 0.000000000   & -4.231942e-18 &  1.106079e-18 & -2.719670e-18 & -8.947283e-03 &  1.789457e-02\\\\\n",
       "\\end{tabular}\n"
      ],
      "text/markdown": [
       "1. 0.00894728331641829\n",
       "2. 0\n",
       "3. 0\n",
       "4. 0\n",
       "5. 0\n",
       "6. 0\n",
       "7. 0\n",
       "8. 0.00894728331641829\n",
       "9. 4.74490496263039e-18\n",
       "10. -2.56481349331373e-18\n",
       "11. 7.30971845594412e-18\n",
       "12. -4.23194226396764e-18\n",
       "13. 0\n",
       "14. 4.74490496263039e-18\n",
       "15. 0.0178945666328366\n",
       "16. -0.0089472833164183\n",
       "17. 3.26206062734778e-19\n",
       "18. 1.10607918225443e-18\n",
       "19. 0\n",
       "20. -2.56481349331373e-18\n",
       "21. -0.0089472833164183\n",
       "22. 0.0178945666328366\n",
       "23. 5.43716239519562e-19\n",
       "24. -2.71966979127993e-18\n",
       "25. 0\n",
       "26. 7.30971845594412e-18\n",
       "27. 3.26206062734778e-19\n",
       "28. 5.43716239519562e-19\n",
       "29. 0.0178945666328366\n",
       "30. -0.00894728331641829\n",
       "31. 0\n",
       "32. -4.23194226396764e-18\n",
       "33. 1.10607918225443e-18\n",
       "34. -2.71966979127993e-18\n",
       "35. -0.00894728331641829\n",
       "36. 0.0178945666328366\n",
       "\n",
       "\n"
      ],
      "text/plain": [
       "            (Intercept) D1            W1            W2            D1:W1        \n",
       "(Intercept) 0.008947283  0.000000e+00  0.000000e+00  0.000000e+00  0.000000e+00\n",
       "D1          0.000000000  8.947283e-03  4.744905e-18 -2.564813e-18  7.309718e-18\n",
       "W1          0.000000000  4.744905e-18  1.789457e-02 -8.947283e-03  3.262061e-19\n",
       "W2          0.000000000 -2.564813e-18 -8.947283e-03  1.789457e-02  5.437162e-19\n",
       "D1:W1       0.000000000  7.309718e-18  3.262061e-19  5.437162e-19  1.789457e-02\n",
       "D1:W2       0.000000000 -4.231942e-18  1.106079e-18 -2.719670e-18 -8.947283e-03\n",
       "            D1:W2        \n",
       "(Intercept)  0.000000e+00\n",
       "D1          -4.231942e-18\n",
       "W1           1.106079e-18\n",
       "W2          -2.719670e-18\n",
       "D1:W1       -8.947283e-03\n",
       "D1:W2        1.789457e-02"
      ]
     },
     "metadata": {},
     "output_type": "display_data"
    }
   ],
   "source": [
    "head(model.matrix(kidney.lm))"
   ]
  },
  {
   "cell_type": "markdown",
   "metadata": {
    "slideshow": {
     "slide_type": "slide"
    }
   },
   "source": [
    "### Finding predicted values\n",
    "\n",
    "The most direct way to compute predicted values is using the `predict` function"
   ]
  },
  {
   "cell_type": "code",
   "execution_count": 17,
   "metadata": {
    "collapsed": false,
    "slideshow": {
     "slide_type": "fragment"
    }
   },
   "outputs": [
    {
     "data": {
      "text/html": [
       "<table>\n",
       "<thead><tr><th></th><th scope=col>fit</th><th scope=col>lwr</th><th scope=col>upr</th></tr></thead>\n",
       "<tbody>\n",
       "\t<tr><th scope=row>1</th><td>1.021156 </td><td>0.5566306</td><td>1.485681 </td></tr>\n",
       "</tbody>\n",
       "</table>\n"
      ],
      "text/latex": [
       "\\begin{tabular}{r|lll}\n",
       "  & fit & lwr & upr\\\\\n",
       "\\hline\n",
       "\t1 & 1.021156  & 0.5566306 & 1.485681 \\\\\n",
       "\\end{tabular}\n"
      ],
      "text/markdown": [
       "1. 1.02115603146356\n",
       "2. 0.556630649339575\n",
       "3. 1.48568141358755\n",
       "\n",
       "\n"
      ],
      "text/plain": [
       "  fit      lwr       upr     \n",
       "1 1.021156 0.5566306 1.485681"
      ]
     },
     "metadata": {},
     "output_type": "display_data"
    }
   ],
   "source": [
    "predict(kidney.lm, list(D=factor(1),W=factor(1)), interval='confidence')"
   ]
  },
  {
   "cell_type": "markdown",
   "metadata": {
    "slideshow": {
     "slide_type": "slide"
    }
   },
   "source": [
    "### ANOVA table\n",
    "\n",
    "In the balanced case, everything can again be summarized\n",
    "from the ANOVA table\n",
    "\n",
    "<table>\n",
    "<tr><td>Source</td><td width=\"400\">SS</td><td width=\"100\">df</td><td width=\"200\">$\\mathbb{E}(MS)$</td></tr>\n",
    "<tr><td>A</td><td>$SSA=nm\\sum_{i=1}^r  \\left(\\overline{Y}_{i\\cdot\\cdot} - \\overline{Y}_{\\cdot\\cdot\\cdot}\\right)^2$</td><td>r-1</td><td>$\\sigma^2 + nm\\frac{\\sum_{i=1}^r \\alpha_i^2}{r-1}$</td></tr>\n",
    "<tr><td>B</td><td>$SSB=nr\\sum_{j=1}^m  \\left(\\overline{Y}_{\\cdot j\\cdot} - \\overline{Y}_{\\cdot\\cdot\\cdot}\\right)^2$</td>\n",
    "<td>m-1</td><td>$\\sigma^2 + nr\\frac{\\sum_{j=1}^m \\beta_j^2}{m-1}$</td></tr>\n",
    "<tr><td>A:B</td><td>$SSAB = n\\sum_{i=1}^r \\sum_{j=1}^m  \\left(\\overline{Y}_{ij\\cdot} - \\overline{Y}_{i\\cdot\\cdot} - \\overline{Y}_{\\cdot j\\cdot} + \\overline{Y}_{\\cdot\\cdot\\cdot}\\right)^2$</td>\n",
    "<td>(m-1)(r-1)</td><td>$\\sigma^2 + n\\frac{\\sum_{i=1}^r\\sum_{j=1}^m (\\alpha\\beta)_{ij}^2}{(r-1)(m-1)}$</td></tr>\n",
    "<tr><td>Error</td><td>$SSE = \\sum_{i=1}^r \\sum_{j=1}^m \\sum_{k=1}^{n}(Y_{ijk} - \\overline{Y}_{ij\\cdot})^2$</td>\n",
    "<td>(n-1)mr</td><td>$\\sigma^2$</td></tr>\n",
    "</table>\n"
   ]
  },
  {
   "cell_type": "markdown",
   "metadata": {
    "slideshow": {
     "slide_type": "slide"
    }
   },
   "source": [
    "### Tests using the ANOVA table\n",
    "\n",
    "* Rows of the ANOVA table can be used to test various\n",
    "of the hypotheses we started out with.\n",
    "\n",
    "* For instance, we see that under\n",
    "  $H_0:(\\alpha\\beta)_{ij}=0, \\forall i,j$ the expected value of $SSAB$\n",
    "  and $SSE$ is $\\sigma^2$ – use these for an $F$-test testing for an\n",
    "  interaction.\n",
    "  \n",
    "- Under $H_0$\n",
    "    $$F = \\frac{MSAB}{MSE} = \\frac{\\frac{SSAB}{(m-1)(r-1)}}{\\frac{SSE}{(n-1)mr}} \\sim F_{(m-1)(r-1), (n-1)mr}$$"
   ]
  },
  {
   "cell_type": "code",
   "execution_count": 18,
   "metadata": {
    "collapsed": false,
    "slideshow": {
     "slide_type": "fragment"
    }
   },
   "outputs": [
    {
     "data": {
      "text/html": [
       "<table>\n",
       "<thead><tr><th></th><th scope=col>Df</th><th scope=col>Sum Sq</th><th scope=col>Mean Sq</th><th scope=col>F value</th><th scope=col>Pr(&gt;F)</th></tr></thead>\n",
       "<tbody>\n",
       "\t<tr><th scope=row>D</th><td> 1          </td><td> 2.3396928  </td><td>2.3396928   </td><td> 4.3582928  </td><td>4.156170e-02</td></tr>\n",
       "\t<tr><th scope=row>W</th><td> 2          </td><td>16.9712909  </td><td>8.4856454   </td><td>15.8067448  </td><td>3.944502e-06</td></tr>\n",
       "\t<tr><th scope=row>D:W</th><td> 2          </td><td> 0.6356584  </td><td>0.3178292   </td><td> 0.5920404  </td><td>5.567479e-01</td></tr>\n",
       "\t<tr><th scope=row>Residuals</th><td>54          </td><td>28.9891979  </td><td>0.5368370   </td><td>        NA  </td><td>          NA</td></tr>\n",
       "</tbody>\n",
       "</table>\n"
      ],
      "text/latex": [
       "\\begin{tabular}{r|lllll}\n",
       "  & Df & Sum Sq & Mean Sq & F value & Pr(>F)\\\\\n",
       "\\hline\n",
       "\tD &  1           &  2.3396928   & 2.3396928    &  4.3582928   & 4.156170e-02\\\\\n",
       "\tW &  2           & 16.9712909   & 8.4856454    & 15.8067448   & 3.944502e-06\\\\\n",
       "\tD:W &  2           &  0.6356584   & 0.3178292    &  0.5920404   & 5.567479e-01\\\\\n",
       "\tResiduals & 54           & 28.9891979   & 0.5368370    &         NA   &           NA\\\\\n",
       "\\end{tabular}\n"
      ],
      "text/plain": [
       "          Df Sum Sq     Mean Sq   F value    Pr(>F)      \n",
       "D          1  2.3396928 2.3396928  4.3582928 4.156170e-02\n",
       "W          2 16.9712909 8.4856454 15.8067448 3.944502e-06\n",
       "D:W        2  0.6356584 0.3178292  0.5920404 5.567479e-01\n",
       "Residuals 54 28.9891979 0.5368370         NA           NA"
      ]
     },
     "metadata": {},
     "output_type": "display_data"
    },
    {
     "data": {
      "text/html": [
       "<table>\n",
       "<thead><tr><th></th><th scope=col>Df</th><th scope=col>Sum Sq</th><th scope=col>Mean Sq</th><th scope=col>F value</th><th scope=col>Pr(&gt;F)</th></tr></thead>\n",
       "<tbody>\n",
       "\t<tr><th scope=row>D</th><td> 1          </td><td> 2.3396928  </td><td>2.3396928   </td><td> 4.3582928  </td><td>4.156170e-02</td></tr>\n",
       "\t<tr><th scope=row>W</th><td> 2          </td><td>16.9712909  </td><td>8.4856454   </td><td>15.8067448  </td><td>3.944502e-06</td></tr>\n",
       "\t<tr><th scope=row>D:W</th><td> 2          </td><td> 0.6356584  </td><td>0.3178292   </td><td> 0.5920404  </td><td>5.567479e-01</td></tr>\n",
       "\t<tr><th scope=row>Residuals</th><td>54          </td><td>28.9891979  </td><td>0.5368370   </td><td>        NA  </td><td>          NA</td></tr>\n",
       "</tbody>\n",
       "</table>\n"
      ],
      "text/latex": [
       "\\begin{tabular}{r|lllll}\n",
       "  & Df & Sum Sq & Mean Sq & F value & Pr(>F)\\\\\n",
       "\\hline\n",
       "\tD &  1           &  2.3396928   & 2.3396928    &  4.3582928   & 4.156170e-02\\\\\n",
       "\tW &  2           & 16.9712909   & 8.4856454    & 15.8067448   & 3.944502e-06\\\\\n",
       "\tD:W &  2           &  0.6356584   & 0.3178292    &  0.5920404   & 5.567479e-01\\\\\n",
       "\tResiduals & 54           & 28.9891979   & 0.5368370    &         NA   &           NA\\\\\n",
       "\\end{tabular}\n"
      ],
      "text/plain": [
       "          Df Sum Sq     Mean Sq   F value    Pr(>F)      \n",
       "D          1  2.3396928 2.3396928  4.3582928 4.156170e-02\n",
       "W          2 16.9712909 8.4856454 15.8067448 3.944502e-06\n",
       "D:W        2  0.6356584 0.3178292  0.5920404 5.567479e-01\n",
       "Residuals 54 28.9891979 0.5368370         NA           NA"
      ]
     },
     "metadata": {},
     "output_type": "display_data"
    }
   ],
   "source": [
    "anova(kidney.lm)"
   ]
  },
  {
   "cell_type": "markdown",
   "metadata": {
    "slideshow": {
     "slide_type": "slide"
    }
   },
   "source": [
    "We can also test for interactions using our usual approach\n"
   ]
  },
  {
   "cell_type": "code",
   "execution_count": 19,
   "metadata": {
    "collapsed": false,
    "slideshow": {
     "slide_type": "fragment"
    }
   },
   "outputs": [
    {
     "data": {
      "text/html": [
       "<table>\n",
       "<thead><tr><th scope=col>Res.Df</th><th scope=col>RSS</th><th scope=col>Df</th><th scope=col>Sum of Sq</th><th scope=col>F</th><th scope=col>Pr(&gt;F)</th></tr></thead>\n",
       "<tbody>\n",
       "\t<tr><td>56       </td><td>29.62486 </td><td>NA       </td><td>       NA</td><td>       NA</td><td>       NA</td></tr>\n",
       "\t<tr><td>54       </td><td>28.98920 </td><td> 2       </td><td>0.6356584</td><td>0.5920404</td><td>0.5567479</td></tr>\n",
       "</tbody>\n",
       "</table>\n"
      ],
      "text/latex": [
       "\\begin{tabular}{r|llllll}\n",
       " Res.Df & RSS & Df & Sum of Sq & F & Pr(>F)\\\\\n",
       "\\hline\n",
       "\t 56        & 29.62486  & NA        &        NA &        NA &        NA\\\\\n",
       "\t 54        & 28.98920  &  2        & 0.6356584 & 0.5920404 & 0.5567479\\\\\n",
       "\\end{tabular}\n"
      ],
      "text/plain": [
       "  Res.Df RSS      Df Sum of Sq F         Pr(>F)   \n",
       "1 56     29.62486 NA        NA        NA        NA\n",
       "2 54     28.98920  2 0.6356584 0.5920404 0.5567479"
      ]
     },
     "metadata": {},
     "output_type": "display_data"
    }
   ],
   "source": [
    "anova(lm(logDays ~ D + W, kidney.table), kidney.lm)"
   ]
  },
  {
   "cell_type": "markdown",
   "metadata": {
    "slideshow": {
     "slide_type": "slide"
    }
   },
   "source": [
    "### Some caveats about `R` formulae\n",
    "\n",
    "While we see that it is straightforward to form the\n",
    "interactions test using our usual `anova` function approach, we generally\n",
    "*cannot* test for main effects by this approach. \n"
   ]
  },
  {
   "cell_type": "code",
   "execution_count": 20,
   "metadata": {
    "collapsed": false,
    "slideshow": {
     "slide_type": "fragment"
    }
   },
   "outputs": [
    {
     "data": {
      "text/html": [
       "<table>\n",
       "<thead><tr><th scope=col>Res.Df</th><th scope=col>RSS</th><th scope=col>Df</th><th scope=col>Sum of Sq</th><th scope=col>F</th><th scope=col>Pr(&gt;F)</th></tr></thead>\n",
       "<tbody>\n",
       "\t<tr><td>54          </td><td>28.9892     </td><td>NA          </td><td>          NA</td><td>NA          </td><td>NA          </td></tr>\n",
       "\t<tr><td>54          </td><td>28.9892     </td><td> 0          </td><td>7.105427e-15</td><td>NA          </td><td>NA          </td></tr>\n",
       "</tbody>\n",
       "</table>\n"
      ],
      "text/latex": [
       "\\begin{tabular}{r|llllll}\n",
       " Res.Df & RSS & Df & Sum of Sq & F & Pr(>F)\\\\\n",
       "\\hline\n",
       "\t 54           & 28.9892      & NA           &           NA & NA           & NA          \\\\\n",
       "\t 54           & 28.9892      &  0           & 7.105427e-15 & NA           & NA          \\\\\n",
       "\\end{tabular}\n"
      ],
      "text/plain": [
       "  Res.Df RSS     Df Sum of Sq    F  Pr(>F)\n",
       "1 54     28.9892 NA           NA NA NA    \n",
       "2 54     28.9892  0 7.105427e-15 NA NA    "
      ]
     },
     "metadata": {},
     "output_type": "display_data"
    },
    {
     "data": {
      "text/html": [
       "<table>\n",
       "<thead><tr><th scope=col>Res.Df</th><th scope=col>RSS</th><th scope=col>Df</th><th scope=col>Sum of Sq</th><th scope=col>F</th><th scope=col>Pr(&gt;F)</th></tr></thead>\n",
       "<tbody>\n",
       "\t<tr><td>58          </td><td>46.59615    </td><td>NA          </td><td>      NA    </td><td>      NA    </td><td>          NA</td></tr>\n",
       "\t<tr><td>56          </td><td>29.62486    </td><td> 2          </td><td>16.97129    </td><td>16.04045    </td><td>3.108672e-06</td></tr>\n",
       "</tbody>\n",
       "</table>\n"
      ],
      "text/latex": [
       "\\begin{tabular}{r|llllll}\n",
       " Res.Df & RSS & Df & Sum of Sq & F & Pr(>F)\\\\\n",
       "\\hline\n",
       "\t 58           & 46.59615     & NA           &       NA     &       NA     &           NA\\\\\n",
       "\t 56           & 29.62486     &  2           & 16.97129     & 16.04045     & 3.108672e-06\\\\\n",
       "\\end{tabular}\n"
      ],
      "text/plain": [
       "  Res.Df RSS      Df Sum of Sq F        Pr(>F)      \n",
       "1 58     46.59615 NA       NA        NA           NA\n",
       "2 56     29.62486  2 16.97129  16.04045 3.108672e-06"
      ]
     },
     "metadata": {},
     "output_type": "display_data"
    }
   ],
   "source": [
    "lm_no_main_Weight = lm(logDays ~ D + W:D)\n",
    "anova(lm_no_main_Weight, kidney.lm)\n",
    "anova(lm(logDays ~ D), lm(logDays ~ D + W))"
   ]
  },
  {
   "cell_type": "markdown",
   "metadata": {
    "slideshow": {
     "slide_type": "slide"
    }
   },
   "source": [
    "In fact, these models are identical in terms of their *planes* or their\n",
    "*fitted values*. What has happened is that `R` has\n",
    "formed a different design matrix using its rules for `formula` objects."
   ]
  },
  {
   "cell_type": "code",
   "execution_count": 21,
   "metadata": {
    "collapsed": false,
    "slideshow": {
     "slide_type": "fragment"
    }
   },
   "outputs": [
    {
     "data": {
      "text/html": [
       "<table>\n",
       "<thead><tr><th scope=col>Res.Df</th><th scope=col>RSS</th><th scope=col>Df</th><th scope=col>Sum of Sq</th><th scope=col>F</th><th scope=col>Pr(&gt;F)</th></tr></thead>\n",
       "<tbody>\n",
       "\t<tr><td>54          </td><td>28.9892     </td><td>NA          </td><td>          NA</td><td>NA          </td><td>NA          </td></tr>\n",
       "\t<tr><td>54          </td><td>28.9892     </td><td> 0          </td><td>3.552714e-15</td><td>NA          </td><td>NA          </td></tr>\n",
       "</tbody>\n",
       "</table>\n"
      ],
      "text/latex": [
       "\\begin{tabular}{r|llllll}\n",
       " Res.Df & RSS & Df & Sum of Sq & F & Pr(>F)\\\\\n",
       "\\hline\n",
       "\t 54           & 28.9892      & NA           &           NA & NA           & NA          \\\\\n",
       "\t 54           & 28.9892      &  0           & 3.552714e-15 & NA           & NA          \\\\\n",
       "\\end{tabular}\n"
      ],
      "text/plain": [
       "  Res.Df RSS     Df Sum of Sq    F  Pr(>F)\n",
       "1 54     28.9892 NA           NA NA NA    \n",
       "2 54     28.9892  0 3.552714e-15 NA NA    "
      ]
     },
     "metadata": {},
     "output_type": "display_data"
    }
   ],
   "source": [
    "lm1 = lm(logDays ~ D + W:D)\n",
    "lm2 = lm(logDays ~ D + W:D + W)\n",
    "anova(lm1, lm2)"
   ]
  },
  {
   "cell_type": "markdown",
   "metadata": {
    "slideshow": {
     "slide_type": "slide"
    }
   },
   "source": [
    "## ANOVA tables in general\n",
    "\n",
    "So far, we have used `anova` to compare two models. In this section,\n",
    "we produced tables for just 1 model. This also works for\n",
    "*any* regression model, though we have to be a little careful\n",
    "about interpretation.\n",
    "\n",
    "Let's revisit the job aptitude test data from last section."
   ]
  },
  {
   "cell_type": "code",
   "execution_count": 22,
   "metadata": {
    "collapsed": false,
    "slideshow": {
     "slide_type": "slide"
    }
   },
   "outputs": [
    {
     "data": {
      "text/plain": [
       "\n",
       "Call:\n",
       "lm(formula = JPERF ~ TEST + MINORITY + TEST:MINORITY, data = jobtest.table)\n",
       "\n",
       "Residuals:\n",
       "    Min      1Q  Median      3Q     Max \n",
       "-2.0734 -1.0594 -0.2548  1.2830  2.1980 \n",
       "\n",
       "Coefficients:\n",
       "               Estimate Std. Error t value Pr(>|t|)  \n",
       "(Intercept)      2.0103     1.0501   1.914   0.0736 .\n",
       "TEST             1.3134     0.6704   1.959   0.0677 .\n",
       "MINORITY1       -1.9132     1.5403  -1.242   0.2321  \n",
       "TEST:MINORITY1   1.9975     0.9544   2.093   0.0527 .\n",
       "---\n",
       "Signif. codes:  0 ‘***’ 0.001 ‘**’ 0.01 ‘*’ 0.05 ‘.’ 0.1 ‘ ’ 1\n",
       "\n",
       "Residual standard error: 1.407 on 16 degrees of freedom\n",
       "Multiple R-squared:  0.6643,\tAdjusted R-squared:  0.6013 \n",
       "F-statistic: 10.55 on 3 and 16 DF,  p-value: 0.0004511\n"
      ]
     },
     "metadata": {},
     "output_type": "display_data"
    }
   ],
   "source": [
    "url = 'http://stats191.stanford.edu/data/jobtest.table'\n",
    "jobtest.table <- read.table(url, header=T)\n",
    "jobtest.table$MINORITY <- factor(jobtest.table$MINORITY)\n",
    "jobtest.lm = lm(JPERF ~ TEST + MINORITY + TEST:MINORITY, jobtest.table)\n",
    "summary(jobtest.lm)"
   ]
  },
  {
   "cell_type": "markdown",
   "metadata": {
    "slideshow": {
     "slide_type": "slide"
    }
   },
   "source": [
    "Now, let's look at the `anova` output. We'll see the results don't match."
   ]
  },
  {
   "cell_type": "code",
   "execution_count": 23,
   "metadata": {
    "collapsed": false,
    "slideshow": {
     "slide_type": "fragment"
    }
   },
   "outputs": [
    {
     "data": {
      "text/html": [
       "<table>\n",
       "<thead><tr><th></th><th scope=col>Df</th><th scope=col>Sum Sq</th><th scope=col>Mean Sq</th><th scope=col>F value</th><th scope=col>Pr(&gt;F)</th></tr></thead>\n",
       "<tbody>\n",
       "\t<tr><th scope=row>TEST</th><td> 1          </td><td>48.722958   </td><td>48.722958   </td><td>24.626621   </td><td>0.0001411547</td></tr>\n",
       "\t<tr><th scope=row>MINORITY</th><td> 1          </td><td> 5.246751   </td><td> 5.246751   </td><td> 2.651927   </td><td>0.1229523805</td></tr>\n",
       "\t<tr><th scope=row>TEST:MINORITY</th><td> 1          </td><td> 8.666073   </td><td> 8.666073   </td><td> 4.380196   </td><td>0.0526501180</td></tr>\n",
       "\t<tr><th scope=row>Residuals</th><td>16          </td><td>31.655473   </td><td> 1.978467   </td><td>       NA   </td><td>          NA</td></tr>\n",
       "</tbody>\n",
       "</table>\n"
      ],
      "text/latex": [
       "\\begin{tabular}{r|lllll}\n",
       "  & Df & Sum Sq & Mean Sq & F value & Pr(>F)\\\\\n",
       "\\hline\n",
       "\tTEST &  1           & 48.722958    & 48.722958    & 24.626621    & 0.0001411547\\\\\n",
       "\tMINORITY &  1           &  5.246751    &  5.246751    &  2.651927    & 0.1229523805\\\\\n",
       "\tTEST:MINORITY &  1           &  8.666073    &  8.666073    &  4.380196    & 0.0526501180\\\\\n",
       "\tResiduals & 16           & 31.655473    &  1.978467    &        NA    &           NA\\\\\n",
       "\\end{tabular}\n"
      ],
      "text/plain": [
       "              Df Sum Sq    Mean Sq   F value   Pr(>F)      \n",
       "TEST           1 48.722958 48.722958 24.626621 0.0001411547\n",
       "MINORITY       1  5.246751  5.246751  2.651927 0.1229523805\n",
       "TEST:MINORITY  1  8.666073  8.666073  4.380196 0.0526501180\n",
       "Residuals     16 31.655473  1.978467        NA           NA"
      ]
     },
     "metadata": {},
     "output_type": "display_data"
    }
   ],
   "source": [
    "anova(jobtest.lm)"
   ]
  },
  {
   "cell_type": "markdown",
   "metadata": {
    "slideshow": {
     "slide_type": "slide"
    }
   },
   "source": [
    "The difference is how the `Sum Sq` columns is created. In the `anova` output, terms in the\n",
    "response are added sequentially.\n",
    "\n",
    "We can see this by comparing these two models directly. The `F` statistic doesn't agree\n",
    "because the `MSE` above is computed in the *fullest* model, but the `Sum of Sq` is correct."
   ]
  },
  {
   "cell_type": "code",
   "execution_count": 24,
   "metadata": {
    "collapsed": false,
    "slideshow": {
     "slide_type": "fragment"
    }
   },
   "outputs": [
    {
     "data": {
      "text/html": [
       "<table>\n",
       "<thead><tr><th scope=col>Res.Df</th><th scope=col>RSS</th><th scope=col>Df</th><th scope=col>Sum of Sq</th><th scope=col>F</th><th scope=col>Pr(&gt;F)</th></tr></thead>\n",
       "<tbody>\n",
       "\t<tr><td>18       </td><td>45.56830 </td><td>NA       </td><td>      NA </td><td>      NA </td><td>       NA</td></tr>\n",
       "\t<tr><td>17       </td><td>40.32155 </td><td> 1       </td><td>5.246751 </td><td>2.212087 </td><td>0.1552463</td></tr>\n",
       "</tbody>\n",
       "</table>\n"
      ],
      "text/latex": [
       "\\begin{tabular}{r|llllll}\n",
       " Res.Df & RSS & Df & Sum of Sq & F & Pr(>F)\\\\\n",
       "\\hline\n",
       "\t 18        & 45.56830  & NA        &       NA  &       NA  &        NA\\\\\n",
       "\t 17        & 40.32155  &  1        & 5.246751  & 2.212087  & 0.1552463\\\\\n",
       "\\end{tabular}\n"
      ],
      "text/plain": [
       "  Res.Df RSS      Df Sum of Sq F        Pr(>F)   \n",
       "1 18     45.56830 NA       NA        NA        NA\n",
       "2 17     40.32155  1 5.246751  2.212087 0.1552463"
      ]
     },
     "metadata": {},
     "output_type": "display_data"
    }
   ],
   "source": [
    "anova(lm(JPERF ~ TEST, jobtest.table), \n",
    "      lm(JPERF ~ TEST + MINORITY, jobtest.table))"
   ]
  },
  {
   "cell_type": "markdown",
   "metadata": {
    "slideshow": {
     "slide_type": "slide"
    }
   },
   "source": [
    "Similarly, the first `Sum Sq` in `anova` can be found by:"
   ]
  },
  {
   "cell_type": "code",
   "execution_count": 25,
   "metadata": {
    "collapsed": false,
    "slideshow": {
     "slide_type": "fragment"
    }
   },
   "outputs": [
    {
     "data": {
      "text/html": [
       "<table>\n",
       "<thead><tr><th scope=col>Res.Df</th><th scope=col>RSS</th><th scope=col>Df</th><th scope=col>Sum of Sq</th><th scope=col>F</th><th scope=col>Pr(&gt;F)</th></tr></thead>\n",
       "<tbody>\n",
       "\t<tr><td>19          </td><td>94.29126    </td><td>NA          </td><td>      NA    </td><td>      NA    </td><td>          NA</td></tr>\n",
       "\t<tr><td>18          </td><td>45.56830    </td><td> 1          </td><td>48.72296    </td><td>19.24613    </td><td>0.0003555104</td></tr>\n",
       "</tbody>\n",
       "</table>\n"
      ],
      "text/latex": [
       "\\begin{tabular}{r|llllll}\n",
       " Res.Df & RSS & Df & Sum of Sq & F & Pr(>F)\\\\\n",
       "\\hline\n",
       "\t 19           & 94.29126     & NA           &       NA     &       NA     &           NA\\\\\n",
       "\t 18           & 45.56830     &  1           & 48.72296     & 19.24613     & 0.0003555104\\\\\n",
       "\\end{tabular}\n"
      ],
      "text/plain": [
       "  Res.Df RSS      Df Sum of Sq F        Pr(>F)      \n",
       "1 19     94.29126 NA       NA        NA           NA\n",
       "2 18     45.56830  1 48.72296  19.24613 0.0003555104"
      ]
     },
     "metadata": {},
     "output_type": "display_data"
    }
   ],
   "source": [
    "anova(lm(JPERF ~ 1, jobtest.table), lm(JPERF ~ TEST, jobtest.table))"
   ]
  },
  {
   "cell_type": "markdown",
   "metadata": {
    "slideshow": {
     "slide_type": "slide"
    }
   },
   "source": [
    "There are ways to produce an *ANOVA* table whose $p$-values agree with\n",
    "`summary`. This is done by an ANOVA table that uses Type-III sum of squares."
   ]
  },
  {
   "cell_type": "code",
   "execution_count": 26,
   "metadata": {
    "collapsed": false,
    "slideshow": {
     "slide_type": "fragment"
    }
   },
   "outputs": [
    {
     "name": "stderr",
     "output_type": "stream",
     "text": [
      "Warning message:\n",
      "“package ‘car’ was built under R version 3.3.2”"
     ]
    },
    {
     "data": {
      "text/html": [
       "<table>\n",
       "<thead><tr><th></th><th scope=col>Sum Sq</th><th scope=col>Df</th><th scope=col>F value</th><th scope=col>Pr(&gt;F)</th></tr></thead>\n",
       "<tbody>\n",
       "\t<tr><th scope=row>(Intercept)</th><td> 7.250560 </td><td> 1        </td><td>3.664736  </td><td>0.07363289</td></tr>\n",
       "\t<tr><th scope=row>TEST</th><td> 7.594407 </td><td> 1        </td><td>3.838531  </td><td>0.06774914</td></tr>\n",
       "\t<tr><th scope=row>MINORITY</th><td> 3.052180 </td><td> 1        </td><td>1.542699  </td><td>0.23211490</td></tr>\n",
       "\t<tr><th scope=row>TEST:MINORITY</th><td> 8.666073 </td><td> 1        </td><td>4.380196  </td><td>0.05265012</td></tr>\n",
       "\t<tr><th scope=row>Residuals</th><td>31.655473 </td><td>16        </td><td>      NA  </td><td>        NA</td></tr>\n",
       "</tbody>\n",
       "</table>\n"
      ],
      "text/latex": [
       "\\begin{tabular}{r|llll}\n",
       "  & Sum Sq & Df & F value & Pr(>F)\\\\\n",
       "\\hline\n",
       "\t(Intercept) &  7.250560  &  1         & 3.664736   & 0.07363289\\\\\n",
       "\tTEST &  7.594407  &  1         & 3.838531   & 0.06774914\\\\\n",
       "\tMINORITY &  3.052180  &  1         & 1.542699   & 0.23211490\\\\\n",
       "\tTEST:MINORITY &  8.666073  &  1         & 4.380196   & 0.05265012\\\\\n",
       "\tResiduals & 31.655473  & 16         &       NA   &         NA\\\\\n",
       "\\end{tabular}\n"
      ],
      "text/plain": [
       "              Sum Sq    Df F value  Pr(>F)    \n",
       "(Intercept)    7.250560  1 3.664736 0.07363289\n",
       "TEST           7.594407  1 3.838531 0.06774914\n",
       "MINORITY       3.052180  1 1.542699 0.23211490\n",
       "TEST:MINORITY  8.666073  1 4.380196 0.05265012\n",
       "Residuals     31.655473 16       NA         NA"
      ]
     },
     "metadata": {},
     "output_type": "display_data"
    }
   ],
   "source": [
    "library(car)\n",
    "Anova(jobtest.lm, type=3)"
   ]
  },
  {
   "cell_type": "code",
   "execution_count": 27,
   "metadata": {
    "collapsed": false,
    "slideshow": {
     "slide_type": "fragment"
    }
   },
   "outputs": [
    {
     "data": {
      "text/plain": [
       "\n",
       "Call:\n",
       "lm(formula = JPERF ~ TEST + MINORITY + TEST:MINORITY, data = jobtest.table)\n",
       "\n",
       "Residuals:\n",
       "    Min      1Q  Median      3Q     Max \n",
       "-2.0734 -1.0594 -0.2548  1.2830  2.1980 \n",
       "\n",
       "Coefficients:\n",
       "               Estimate Std. Error t value Pr(>|t|)  \n",
       "(Intercept)      2.0103     1.0501   1.914   0.0736 .\n",
       "TEST             1.3134     0.6704   1.959   0.0677 .\n",
       "MINORITY1       -1.9132     1.5403  -1.242   0.2321  \n",
       "TEST:MINORITY1   1.9975     0.9544   2.093   0.0527 .\n",
       "---\n",
       "Signif. codes:  0 ‘***’ 0.001 ‘**’ 0.01 ‘*’ 0.05 ‘.’ 0.1 ‘ ’ 1\n",
       "\n",
       "Residual standard error: 1.407 on 16 degrees of freedom\n",
       "Multiple R-squared:  0.6643,\tAdjusted R-squared:  0.6013 \n",
       "F-statistic: 10.55 on 3 and 16 DF,  p-value: 0.0004511\n"
      ]
     },
     "metadata": {},
     "output_type": "display_data"
    }
   ],
   "source": [
    "summary(jobtest.lm)"
   ]
  },
  {
   "cell_type": "markdown",
   "metadata": {
    "slideshow": {
     "slide_type": "slide"
    }
   },
   "source": [
    "# Fixed and random effects\n",
    "\n",
    "-   In kidney & rehab examples, the categorical variables are\n",
    "    well-defined categories: below average fitness, long duration, etc.\n",
    "\n",
    "-   In some designs, the categorical variable is “subject”.\n",
    "\n",
    "-   Simplest example: repeated measures, where more than one (identical)\n",
    "    measurement is taken on the same individual.\n",
    "\n",
    "-   In this case, the “group” effect $\\alpha_i$ is best thought of as\n",
    "    random because we only sample a subset of the entire population.\n",
    "\n"
   ]
  },
  {
   "cell_type": "markdown",
   "metadata": {
    "slideshow": {
     "slide_type": "slide"
    }
   },
   "source": [
    "### When to use random effects?\n",
    "\n",
    "-   A “group” effect is random if we can think of the levels we observe\n",
    "    in that group to be samples from a larger population.\n",
    "\n",
    "-   Example: if collecting data from different medical centers, “center”\n",
    "    might be thought of as random.\n",
    "\n",
    "-   Example: if surveying students on different campuses, “campus” may\n",
    "    be a random effect.\n",
    "\n"
   ]
  },
  {
   "cell_type": "markdown",
   "metadata": {
    "slideshow": {
     "slide_type": "slide"
    }
   },
   "source": [
    "### Example: sodium content in beer\n",
    "\n",
    "-   How much sodium is there in North American beer? How much does this\n",
    "    vary by brand?\n",
    "\n",
    "-   Observations: for 6 brands of beer, we recorded the sodium content\n",
    "    of 8 12 ounce bottles.\n",
    "\n",
    "-   Questions of interest: what is the “grand mean” sodium content? How\n",
    "    much variability is there from brand to brand?\n",
    "\n",
    "-   “Individuals” in this case are brands, repeated measures are the 8\n",
    "    bottles.\n"
   ]
  },
  {
   "cell_type": "code",
   "execution_count": 28,
   "metadata": {
    "collapsed": false,
    "slideshow": {
     "slide_type": "fragment"
    }
   },
   "outputs": [
    {
     "data": {
      "text/html": [
       "<table>\n",
       "<thead><tr><th></th><th scope=col>Df</th><th scope=col>Sum Sq</th><th scope=col>Mean Sq</th><th scope=col>F value</th><th scope=col>Pr(&gt;F)</th></tr></thead>\n",
       "<tbody>\n",
       "\t<tr><th scope=row>brand</th><td> 5          </td><td>854.5292    </td><td>170.9058333 </td><td>238.7112    </td><td>1.083746e-29</td></tr>\n",
       "\t<tr><th scope=row>Residuals</th><td>42          </td><td> 30.0700    </td><td>  0.7159524 </td><td>      NA    </td><td>          NA</td></tr>\n",
       "</tbody>\n",
       "</table>\n"
      ],
      "text/latex": [
       "\\begin{tabular}{r|lllll}\n",
       "  & Df & Sum Sq & Mean Sq & F value & Pr(>F)\\\\\n",
       "\\hline\n",
       "\tbrand &  5           & 854.5292     & 170.9058333  & 238.7112     & 1.083746e-29\\\\\n",
       "\tResiduals & 42           &  30.0700     &   0.7159524  &       NA     &           NA\\\\\n",
       "\\end{tabular}\n"
      ],
      "text/plain": [
       "          Df Sum Sq   Mean Sq     F value  Pr(>F)      \n",
       "brand      5 854.5292 170.9058333 238.7112 1.083746e-29\n",
       "Residuals 42  30.0700   0.7159524       NA           NA"
      ]
     },
     "metadata": {},
     "output_type": "display_data"
    }
   ],
   "source": [
    "url = 'http://stats191.stanford.edu/data/sodium.table'\n",
    "sodium.table = read.table(url, header=T)\n",
    "sodium.table$brand = factor(sodium.table$brand)\n",
    "sodium.lm = lm(sodium ~ brand, sodium.table)\n",
    "anova(sodium.lm)"
   ]
  },
  {
   "cell_type": "markdown",
   "metadata": {
    "slideshow": {
     "slide_type": "slide"
    }
   },
   "source": [
    "### One-way random effects model\n",
    "\n",
    "-   Assuming that cell-sizes are the same, i.e. equal observations for\n",
    "    each “subject” (brand of beer).\n",
    "\n",
    "-   Observations\n",
    "    $$Y_{ij} \\sim \\mu+ \\alpha_i + \\varepsilon_{ij}, 1 \\leq i \\leq r, 1 \\leq j \\leq n$$\n",
    "\n",
    "-   $\\varepsilon_{ij} \\sim N(0, \\sigma^2_{\\epsilon}), 1 \\leq i \\leq r, 1 \\leq j \\leq n$\n",
    "\n",
    "-   $\\alpha_i \\sim N(0, \\sigma^2_{\\alpha}), 1 \\leq  i \\leq r.$\n",
    "\n",
    "-   Parameters:\n",
    "\n",
    "    -   $\\mu$ is the population mean;\n",
    "\n",
    "    -   $\\sigma^2_{\\epsilon}$ is the measurement variance (i.e. how variable are\n",
    "        the readings from the machine that reads the sodium content?);\n",
    "\n",
    "    -   $\\sigma^2_{\\alpha}$ is the population variance (i.e. how variable\n",
    "\tis the sodium content of beer across brands)."
   ]
  },
  {
   "cell_type": "markdown",
   "metadata": {
    "slideshow": {
     "slide_type": "slide"
    }
   },
   "source": [
    "### Modelling the variance\n",
    "\n",
    "- In random effects model, the observations are no longer independent (even if $\\varepsilon$'s are independent\n",
    "   $$                                                                                                                                         \n",
    "   {\\rm Cov}(Y_{ij}, Y_{i'j'}) = \\left(\\sigma^2_{\\alpha}  + \\sigma^2_{\\epsilon} \\delta_{j,j'} \\right) \\delta_{i,i'}.$$\n",
    "\n",
    "- In more complicated models, this makes ``maximum likelihood estimation'' more complicated: least squares is no longer the best solution. \n",
    "\n",
    "- **It's no longer just a plane!**\n",
    "\n",
    "\n",
    "- This model has a very simple model for the *mean*, it just has a slightly\n",
    "more complex model for the *variance*.\n",
    "\n",
    "- Shortly we'll see other more complex models of the variance:\n",
    "    - Weighted Least Squares\n",
    "    - Correlated Errors"
   ]
  },
  {
   "cell_type": "markdown",
   "metadata": {
    "slideshow": {
     "slide_type": "slide"
    }
   },
   "source": [
    "### Fitting the model\n",
    "\n",
    "The *MLE (Maximum Likelihood Estimator)* is found by minimizing\n",
    "$$\n",
    "\\begin{aligned}\n",
    "-2 \\log \\ell (\\mu, \\sigma^2_{\\epsilon}, \\sigma^2_{\\alpha}|Y) &= \\sum_{i=1}^r \\biggl[ (Y_i - \\mu)^T (\\sigma^2_{\\epsilon} I_{n_i \\times n_i} + \\sigma^2_{\\alpha} 11^T)^{-1} (Y_i - \\mu) \\\\\n",
    "& \\qquad + \\log \\left( \\det(\\sigma^2_{\\epsilon} I_{n_i \\times n_i} + \\sigma^2_{\\alpha} 11^T) \\right) \\biggr].\n",
    "\\end{aligned}\n",
    "$$\n",
    "\n",
    "THe function $\\ell(\\mu, \\sigma^2_{\\epsilon}, \\sigma^2_{\\alpha})$ is called the *likelihood function*."
   ]
  },
  {
   "cell_type": "markdown",
   "metadata": {
    "slideshow": {
     "slide_type": "slide"
    }
   },
   "source": [
    "### Fitting the model in balanced design\n",
    "\n",
    "Only one parameter in the mean function $\\mu.$\n",
    "- When cell sizes are the same (balanced),\n",
    "   $$                                                                           \n",
    "   \\widehat{\\mu} = \\overline{Y}_{\\cdot \\cdot} = \\frac{1}{nr} \\sum_{i,j} Y_{ij}.$$\n",
    "Unbalanced models: use numerical optimizer.\n",
    "\n",
    "- This also changes estimates of $\\sigma^2_{\\epsilon}$ -- see ANOVA table. We\n",
    " might guess that $df=nr-1$ and\n",
    "   $$                                                                           \n",
    "   \\widehat{\\sigma}^2 = \\frac{1}{nr-1} \\sum_{i,j} (Y_{ij} - \\overline{Y}_{\\cdot\\cdot})^2.$$\n",
    "   **This is not correct.**"
   ]
  },
  {
   "cell_type": "markdown",
   "metadata": {
    "slideshow": {
     "slide_type": "slide"
    }
   },
   "source": [
    "### ANOVA table\n",
    "\n",
    "Again, the information needed can be summarized in an\n",
    "ANOVA table.\n",
    "\n",
    "<table>\n",
    "<tr><td>Source</td><td width=\"300\">SS</td><td width=\"100\">df</td><td width=\"100\">$\\mathbb{E}(MS)$</td></tr>\n",
    "<tr><td>Treatment</td><td>$SSTR=\\sum_{i=1}^r n_i \\left(\\overline{Y}_{i\\cdot} - \\overline{Y}_{\\cdot\\cdot}\\right)^2$</td><td>r-1</td><td>$\\sigma^2_{\\epsilon} + n \\sigma^2_{\\alpha}$</td></tr>\n",
    "<tr><td>Error</td><td>$SSE=\\sum_{i=1}^r \\sum_{j=1}^{n_i}(Y_{ij} - \\overline{Y}_{i\\cdot})^2$</td>\n",
    "<td>$\\sum_{i=1}^r (n_i - 1)$</td><td>$\\sigma^2_{\\epsilon}$</td></tr>\n",
    "</table>"
   ]
  },
  {
   "cell_type": "markdown",
   "metadata": {
    "slideshow": {
     "slide_type": "slide"
    }
   },
   "source": [
    "- ANOVA table is still useful to setup tests: the same $F$ statistics for fixed or random will work here.\n",
    "\n",
    "- Test for random effect: $H_0:\\sigma^2_{\\alpha}=0$ based on\n",
    "   $$\n",
    "   F = \\frac{MSTR}{MSE} \\sim F_{r-1, (n-1)r} \\qquad \\text{under $H_0$}.$$\n"
   ]
  },
  {
   "cell_type": "markdown",
   "metadata": {
    "slideshow": {
     "slide_type": "slide"
    }
   },
   "source": [
    "### Degrees of freedom\n",
    "\n",
    "- Why $r-1$ degrees of freedom?\n",
    " \n",
    "- Imagine we could record an infinite number of observations for each individu\\\n",
    "al, so that $\\overline{Y}_{i\\cdot} \\rightarrow \\mu + \\alpha_i$.\n",
    "\n",
    "- To learn anything about $\\mu_{\\cdot}$ we still only have $r$ observations\n",
    "   $(\\mu_1, \\dots, \\mu_r)$.\n",
    "\n",
    "- Sampling more within an individual cannot narrow the CI for $\\mu$.\n"
   ]
  },
  {
   "cell_type": "markdown",
   "metadata": {
    "slideshow": {
     "slide_type": "slide"
    }
   },
   "source": [
    "### Inference for $\\mu$\n",
    "\n",
    "- Easy to check that\n",
    "   $$\n",
    "   \\begin{aligned}\n",
    "   E(\\overline{Y}_{\\cdot \\cdot}) &= \\mu   \\\\\n",
    "   \\text{Var}(\\overline{Y}_{\\cdot \\cdot}) &= \\frac{\\sigma^2_{\\epsilon} + n\\sigma^2_{\\alpha}}{rn}.\n",
    "   \\end{aligned}\n",
    "   $$\n",
    "\n",
    "- To come up with a $t$ statistic that we can use for test, CIs, we\n",
    "   need to find an estimate of $\\text{Var}(\\overline{Y}_{\\cdot \\cdot})$.\n",
    "  \n",
    "  \n",
    "- ANOVA table says $E(MSTR) = n\\sigma^2_{\\alpha}+\\sigma^2_{\\epsilon}$ which suggests\n",
    "   $$                                                                           \n",
    "   \\frac{\\overline{Y}_{\\cdot \\cdot} - \\mu_{\\cdot}}{\\sqrt{\\frac{MSTR}{rn}}} \\sim t_{r-1}.$$"
   ]
  },
  {
   "cell_type": "markdown",
   "metadata": {
    "slideshow": {
     "slide_type": "slide"
    }
   },
   "source": [
    "### Estimating $\\sigma^2_{\\alpha}$\n",
    "\n",
    "We have seen estimates of $\\mu$ and $\\sigma^2_{\\epsilon}$. Only one parameter\n",
    "remains.\n",
    "\n",
    "- Based on the ANOVA table, we see that\n",
    "$$\n",
    "\\sigma^2_{\\alpha} =  \\frac{1}{n}(\\mathbb{E}(MSTR) - \\mathbb{E}(MSE)).\n",
    "$$\n",
    "\n",
    "- This suggests the estimate\n",
    "$$\n",
    "\\hat{\\sigma^2}_{\\alpha} = \\frac{1}{n} (MSTR-MSE).\n",
    "$$\n",
    "\n",
    "- However, this estimate can be negative!\n",
    "\n",
    "- Many such computational difficulties arise in random (and mixed) effects models.\n",
    "\n",
    "\n"
   ]
  },
  {
   "cell_type": "markdown",
   "metadata": {
    "slideshow": {
     "slide_type": "slide"
    }
   },
   "source": [
    "## Mixed effects model\n",
    "\n",
    "- The one-way random effects ANOVA is a special case of a so-called *mixed effects* model:\n",
    "$$\n",
    "\\begin{aligned}\n",
    "Y_{n \\times 1} &= X_{n \\times p}\\beta_{p \\times 1} + Z_{n \\times q}\\gamma_{q \\times 1} \\\\\n",
    "\\gamma &\\sim N(0, \\Sigma).\n",
    "\\end{aligned}\n",
    "$$\n",
    "\n",
    "- Various models also consider restrictions on $\\Sigma$ (e.g. diagonal, unrestricted, block diagonal, etc.)\n",
    "\n",
    "\n",
    "- Our multiple linear regression model is a (very simple) mixed-effects model with $q=n$, \n",
    "$$\n",
    "\\begin{aligned}\n",
    "Z &= I_{n \\times n} \\\\\n",
    "\\Sigma &= \\sigma^2 I_{n \\times n}.\n",
    "\\end{aligned}\n",
    "$$"
   ]
  },
  {
   "cell_type": "markdown",
   "metadata": {
    "slideshow": {
     "slide_type": "slide"
    }
   },
   "source": [
    "## Using mixed effects models: `lme`"
   ]
  },
  {
   "cell_type": "code",
   "execution_count": 29,
   "metadata": {
    "collapsed": false,
    "slideshow": {
     "slide_type": "fragment"
    }
   },
   "outputs": [
    {
     "data": {
      "text/plain": [
       "Linear mixed-effects model fit by REML\n",
       " Data: sodium.table \n",
       "      AIC      BIC    logLik\n",
       "  154.923 160.4735 -74.46152\n",
       "\n",
       "Random effects:\n",
       " Formula: ~1 | brand\n",
       "        (Intercept)  Residual\n",
       "StdDev:    4.612346 0.8461397\n",
       "\n",
       "Fixed effects: sodium ~ 1 \n",
       "               Value Std.Error DF  t-value p-value\n",
       "(Intercept) 17.62917  1.886939 42 9.342733       0\n",
       "\n",
       "Standardized Within-Group Residuals:\n",
       "        Min          Q1         Med          Q3         Max \n",
       "-1.90551291 -0.68337933  0.08232268  0.79246858  1.64968961 \n",
       "\n",
       "Number of Observations: 48\n",
       "Number of Groups: 6 "
      ]
     },
     "metadata": {},
     "output_type": "display_data"
    }
   ],
   "source": [
    "library(nlme)\n",
    "sodium.lme = lme(fixed=sodium~1,random=~1|brand, data=sodium.table)\n",
    "summary(sodium.lme)"
   ]
  },
  {
   "cell_type": "markdown",
   "metadata": {
    "slideshow": {
     "slide_type": "slide"
    }
   },
   "source": [
    "For reasons I'm not sure of, the degrees of freedom don't agree with our\n",
    "ANOVA, though we do find the correct `SE` for our estimate of $\\mu$:"
   ]
  },
  {
   "cell_type": "code",
   "execution_count": 30,
   "metadata": {
    "collapsed": false,
    "slideshow": {
     "slide_type": "fragment"
    }
   },
   "outputs": [
    {
     "data": {
      "text/html": [
       "1.88693884226396"
      ],
      "text/latex": [
       "1.88693884226396"
      ],
      "text/markdown": [
       "1.88693884226396"
      ],
      "text/plain": [
       "[1] 1.886939"
      ]
     },
     "metadata": {},
     "output_type": "display_data"
    }
   ],
   "source": [
    "MSTR = anova(sodium.lm)$Mean[1]\n",
    "sqrt(MSTR/48)"
   ]
  },
  {
   "cell_type": "markdown",
   "metadata": {
    "slideshow": {
     "slide_type": "slide"
    }
   },
   "source": [
    "The intervals formed by `lme` use the 42 degrees of freedom, but \n",
    "are otherwise the same:"
   ]
  },
  {
   "cell_type": "code",
   "execution_count": 31,
   "metadata": {
    "collapsed": false,
    "slideshow": {
     "slide_type": "fragment"
    }
   },
   "outputs": [
    {
     "data": {
      "text/plain": [
       "Approximate 95% confidence intervals\n",
       "\n",
       " Fixed effects:\n",
       "               lower     est.    upper\n",
       "(Intercept) 13.82117 17.62917 21.43716\n",
       "attr(,\"label\")\n",
       "[1] \"Fixed effects:\"\n",
       "\n",
       " Random Effects:\n",
       "  Level: brand \n",
       "                   lower     est.    upper\n",
       "sd((Intercept)) 2.475221 4.612346 8.594683\n",
       "\n",
       " Within-group standard error:\n",
       "    lower      est.     upper \n",
       "0.6832445 0.8461397 1.0478715 "
      ]
     },
     "metadata": {},
     "output_type": "display_data"
    }
   ],
   "source": [
    "intervals(sodium.lme)"
   ]
  },
  {
   "cell_type": "code",
   "execution_count": 32,
   "metadata": {
    "collapsed": false,
    "slideshow": {
     "slide_type": "fragment"
    }
   },
   "outputs": [
    {
     "data": {
      "text/html": [
       "<table>\n",
       "<thead><tr><th scope=col>lwr</th><th scope=col>center</th><th scope=col>upr</th></tr></thead>\n",
       "<tbody>\n",
       "\t<tr><td>13.82117</td><td>17.62917</td><td>21.43716</td></tr>\n",
       "</tbody>\n",
       "</table>\n"
      ],
      "text/latex": [
       "\\begin{tabular}{r|lll}\n",
       " lwr & center & upr\\\\\n",
       "\\hline\n",
       "\t 13.82117 & 17.62917 & 21.43716\\\\\n",
       "\\end{tabular}\n"
      ],
      "text/plain": [
       "  lwr      center   upr     \n",
       "1 13.82117 17.62917 21.43716"
      ]
     },
     "metadata": {},
     "output_type": "display_data"
    }
   ],
   "source": [
    "center = mean(sodium.table$sodium)\n",
    "lwr = center - sqrt(MSTR / 48) * qt(0.975,42)\n",
    "upr = center + sqrt(MSTR / 48) * qt(0.975,42)\n",
    "data.frame(lwr, center, upr)"
   ]
  },
  {
   "cell_type": "markdown",
   "metadata": {
    "slideshow": {
     "slide_type": "slide"
    }
   },
   "source": [
    "Using our degrees of freedom as 7 yields slightly wider intervals"
   ]
  },
  {
   "cell_type": "code",
   "execution_count": 33,
   "metadata": {
    "collapsed": false,
    "slideshow": {
     "slide_type": "fragment"
    }
   },
   "outputs": [
    {
     "data": {
      "text/html": [
       "<table>\n",
       "<thead><tr><th scope=col>lwr</th><th scope=col>center</th><th scope=col>upr</th></tr></thead>\n",
       "<tbody>\n",
       "\t<tr><td>13.16727</td><td>17.62917</td><td>22.09107</td></tr>\n",
       "</tbody>\n",
       "</table>\n"
      ],
      "text/latex": [
       "\\begin{tabular}{r|lll}\n",
       " lwr & center & upr\\\\\n",
       "\\hline\n",
       "\t 13.16727 & 17.62917 & 22.09107\\\\\n",
       "\\end{tabular}\n"
      ],
      "text/plain": [
       "  lwr      center   upr     \n",
       "1 13.16727 17.62917 22.09107"
      ]
     },
     "metadata": {},
     "output_type": "display_data"
    }
   ],
   "source": [
    "center = mean(sodium.table$sodium)\n",
    "lwr = center - sqrt(MSTR / 48) * qt(0.975,7)\n",
    "upr = center + sqrt(MSTR / 48) * qt(0.975,7)\n",
    "data.frame(lwr, center, upr)"
   ]
  }
 ],
 "metadata": {
  "anaconda-cloud": {},
  "celltoolbar": "Slideshow",
  "kernelspec": {
   "display_name": "R",
   "language": "R",
   "name": "ir"
  },
  "language_info": {
   "codemirror_mode": "r",
   "file_extension": ".r",
   "mimetype": "text/x-r-source",
   "name": "R",
   "pygments_lexer": "r",
   "version": "3.3.1"
  }
 },
 "nbformat": 4,
 "nbformat_minor": 0
}
