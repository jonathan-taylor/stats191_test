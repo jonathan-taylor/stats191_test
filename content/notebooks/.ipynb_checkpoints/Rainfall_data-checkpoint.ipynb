{
 "cells": [
  {
   "cell_type": "markdown",
   "metadata": {},
   "source": [
    "In this example, we will extract a table of monthly and annual rainfall from \n",
    "8 Northern California stations. The data is made available by the [state department of water resources](http://cdec.water.ca.gov/cgi-progs/precip1/8STATIONHIST').\n",
    "\n",
    "On inspecting the source of the page, the data is contained near lines 475-588. Here, we'll extract it and save it in a file."
   ]
  },
  {
   "cell_type": "code",
   "execution_count": 9,
   "metadata": {
    "collapsed": true
   },
   "outputs": [],
   "source": [
    "import urllib.request\n",
    "webdata = urllib.request.urlopen('http://cdec.water.ca.gov/cgi-progs/precip1/8STATIONHIST').read()"
   ]
  },
  {
   "cell_type": "code",
   "execution_count": 10,
   "metadata": {},
   "outputs": [
    {
     "data": {
      "text/plain": [
       "['   WY    Oct   Nov   Dec   Jan   Feb   Mar   Apr   May   Jun   Jul   Aug   Sep  Total',\n",
       " '',\n",
       " '  1921  5.25 12.38 11.52 13.12  3.76  5.30  0.94  3.05  0.65  0.00  0.00  0.02  55.99',\n",
       " '  1922  1.39  3.16 11.22  3.21 14.42  8.37  1.58  2.22  0.98  0.14  0.08  0.01  46.78',\n",
       " '  1923  3.59  6.01 11.79  5.95  1.93  0.49  6.86  0.93  2.09  0.20  0.40  2.75  42.99',\n",
       " '  1924  2.15  0.46  2.77  3.55  3.94  2.67  0.89  0.05  0.08  0.00  0.14  0.40  17.10',\n",
       " '  1925  6.63  4.71  6.01  3.47 15.21  4.51  5.46  2.14  1.52  0.11  0.83  2.45  53.05',\n",
       " '',\n",
       " '  1926  1.90  3.53  2.88  5.63 11.55  0.61  6.45  1.49  0.00  0.00  0.24  0.08  34.36',\n",
       " '  1927  2.98 18.82  3.51  9.08 14.70  4.01  7.05  1.63  1.00  0.00  0.03  0.37  63.18']"
      ]
     },
     "execution_count": 10,
     "metadata": {},
     "output_type": "execute_result"
    }
   ],
   "source": [
    "data = str(webdata).split('\\\\n')[481:600]\n",
    "data[:10]"
   ]
  },
  {
   "cell_type": "code",
   "execution_count": 11,
   "metadata": {},
   "outputs": [
    {
     "data": {
      "text/plain": [
       "'  2017  12.60 5.40 11.60 23.60 23.40  6.90  9.60  0.50  0.80  0.00  0.10  0.40  94.70'"
      ]
     },
     "execution_count": 11,
     "metadata": {},
     "output_type": "execute_result"
    }
   ],
   "source": [
    "data[-2]"
   ]
  },
  {
   "cell_type": "markdown",
   "metadata": {},
   "source": [
    "The data contains some blank lines. We will remove these and split the lines into separate elements:"
   ]
  },
  {
   "cell_type": "code",
   "execution_count": 12,
   "metadata": {
    "collapsed": true
   },
   "outputs": [],
   "source": [
    "data = [l.split() for l in data if l]"
   ]
  },
  {
   "cell_type": "markdown",
   "metadata": {},
   "source": [
    "Now let's write this to a file."
   ]
  },
  {
   "cell_type": "code",
   "execution_count": 14,
   "metadata": {},
   "outputs": [],
   "source": [
    "import csv\n",
    "outfile = open('rainfall.csv', 'w')\n",
    "writer = csv.writer(outfile)\n",
    "for row in data:\n",
    "    writer.writerow(row)\n",
    "outfile.close()"
   ]
  },
  {
   "cell_type": "code",
   "execution_count": null,
   "metadata": {
    "collapsed": true
   },
   "outputs": [],
   "source": []
  }
 ],
 "metadata": {
  "kernelspec": {
   "display_name": "Python 3",
   "language": "python",
   "name": "python3"
  },
  "language_info": {
   "codemirror_mode": {
    "name": "ipython",
    "version": 3
   },
   "file_extension": ".py",
   "mimetype": "text/x-python",
   "name": "python",
   "nbconvert_exporter": "python",
   "pygments_lexer": "ipython3",
   "version": "3.6.2"
  }
 },
 "nbformat": 4,
 "nbformat_minor": 1
}
