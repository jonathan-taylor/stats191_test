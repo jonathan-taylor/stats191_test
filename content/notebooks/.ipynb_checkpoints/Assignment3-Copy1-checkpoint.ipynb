{
 "cells": [
  {
   "cell_type": "markdown",
   "metadata": {},
   "source": [
    "\n",
    "**You may discuss homework problems with other students, but you have to prepare the written assignments yourself. **\n",
    "\n",
    "**Please combine all your answers, the computer code and the figures into one file, and submit a copy in your dropbox on canvas.**\n",
    "\n",
    "**Due date: February 17, 2017.**\n",
    "\n"
   ]
  },
  {
   "cell_type": "markdown",
   "metadata": {},
   "source": [
    "# Question 1 (ALSM, 6.18)\n",
    "\n",
    "A researcher in a scientific foundation wished to evaluate the relation between intermediate and senior level annuals salaries of bachelor’s and master’s level mathematicians (`Y`, in thousand dollars) and an index of work quality (`X1`), number of years of experience (`X2`), and an index of publication success (`X3`). The data for a sample of 24 bachelor’s and master’s level mathematicians can be found at [http://www.stanford.edu/class/stats191/data/math-salaries.table](http://www.stanford.edu/class/stats191/data/math-salaries.table).\n",
    "\n",
    "1. Make the scatter plot matrix and the correlation matrix of the table. Summarize the results.\n",
    "\n",
    "2. Fit a linear regression model for salary based on `X1, X2, X3`. Report the fitted regression function.\n",
    "\n",
    "3. Test the overall goodness of fit for the regression model at level $\\alpha = 0.10$. Specify the null and alternative hypotheses, as well as the test used.\n",
    "\n",
    "4. Give Bonferroni corrected simultaneous 90 % confidence intervals for $\\beta_1, \\beta_2, \\beta_3$.\n",
    "\n",
    "5. What is the $R^2$ of the model? How is the $R^2$ interpreted? What is the adjusted $R^2$?\n",
    "\n",
    "6. The researcher wishes to find confidence interval estimates at certain levels of the `X` variables found in [http://stats191.stanford.edu/data/salary_levels.table](http://stats191.stanford.edu/data/salary_levels.table). Construct Bonferonni corrected simultaneous 95% confidence intervals at each of the columns of the above table."
   ]
  },
  {
   "cell_type": "markdown",
   "metadata": {},
   "source": [
    "# Question 2\n",
    "\n",
    "The dataset `state.x77` in R contains the following statistics (among others) related to the 50 states\n",
    "of the United States of America:\n",
    "\n",
    "* `Population`: population estimate (1975)\n",
    "\n",
    "* `Income`: per capita income (1974)\n",
    "\n",
    "* `Illiteracy`: illiteracy (1970, percent of population)\n",
    "\n",
    "* `HS.Grad`: percent high school graduates (1970)"
   ]
  },
  {
   "cell_type": "code",
   "execution_count": null,
   "metadata": {},
   "outputs": [],
   "source": [
    "state.data = data.frame(state.x77)"
   ]
  },
  {
   "cell_type": "markdown",
   "metadata": {},
   "source": [
    "We are interested in the relation between Income and other 3 variables.\n",
    "\n",
    "1. Produce a 4 by 4 scatter plot of the variables above.\n",
    "\n",
    "2. Fit a multiple linear regression model to the data with Income as the\n",
    "dependent variable, and Population, Illiteracy, HS.Grad as the independent\n",
    "variables. Comment on the significance of the variables in the model using the\n",
    "result of summary.\n",
    "\n",
    "3. Produce standard diagnostic plots of the multiple regression fit in part 2.\n",
    "\n",
    "4. Plot dffits of the observations and find observations which have high influence,\n",
    "using critical value 0.5.\n",
    "\n",
    "5. Plot Cook's distance of the observations and find observations which have high\n",
    "influence, using critical value 0.1. Compare with the result of part 4.\n",
    "\n",
    "6. Find states with outlying predictors by looking at the leverage values. Use\n",
    "critical value 0.3.\n",
    "\n",
    "7. Find outliers, if any, in the response. Remove them from the data and refit a\n",
    "multiple linear regression model and compare the result with the previous fit.\n",
    "\n",
    "8. As a summary, find all the influential states using `influence.measures` function."
   ]
  },
  {
   "cell_type": "markdown",
   "metadata": {},
   "source": [
    "# Question 3\n",
    "\n",
    "The\tdataset\t`iris`\tin `R`\tgives the measurements in centimeters of the\n",
    "variables sepal length and width and petal length and width, respectively, for \n",
    "50 flowers from each of 3 species of iris. "
   ]
  },
  {
   "cell_type": "code",
   "execution_count": null,
   "metadata": {},
   "outputs": [],
   "source": [
    "data(iris)"
   ]
  },
  {
   "cell_type": "markdown",
   "metadata": {},
   "source": [
    " \n",
    "\n",
    "1. Fit a multiple linear regression model to the data with sepal length as \n",
    "the dependent variable and sepal width, petal length and petal width \n",
    "as the independent variables. \n",
    "\n",
    "2. Test the reduced model of $H_0: \\beta_{\\tt sepal width}=\\beta_{\\tt petal length} = 0$\n",
    "with an\n",
    "F-test at level $\\alpha=0.05$\n",
    "\n",
    "3. Test $H_0: \\beta_{\\tt sepal width} = \\beta_{\\tt petal length}$ at level $\\alpha=0.05$\n",
    "\n",
    "4. Test $H_0: \\beta_{\\tt sepal width} < \\beta_{\\tt petal length}$ at level $\\alpha=0.05$."
   ]
  },
  {
   "cell_type": "markdown",
   "metadata": {},
   "source": [
    "# Question 4 \n",
    "\n",
    "We revisit Tomasetti's and Vogelstein's study on cancer incidence across tissues from Assignment 2. The second part of their paper deals with the existence of two clusters in the dataset: According to the authors, D-tumours (D for deterministic) can be attributed to some degree to environmental and genetic factors, while the risk of R-tumours (R for replicative) is affected mainly by random mutations occuring during replication of stem cells.\n",
    "\n",
    "1. The dataset also includes a column `Cluster` according to the classification of that tumour as Deterministic or Replicative. Fit a linear model as in Assignment 2, but with a different slope for D- and R-tumours. \n",
    "\n",
    "2. Draw a scatterplot, as well as the two regression lines.\n",
    "\n",
    "3. Conduct a F-test to compare the regression model above to the regression model which does not account for this classification. What is the p-value?\n",
    "\n",
    "4. Given that in the study the two clusters were assigned based on the dataset (i.e. based on `Lscd` and `Risk`), do you think the logic behind the p-value from part 3 is OK?\n",
    "\n",
    "\n",
    "(Remark: The authors did not actually conduct the F-test from part 1; they only argued that the two \"clusters\" are meaningful.)"
   ]
  },
  {
   "cell_type": "markdown",
   "metadata": {},
   "source": [
    "# Question 5\n",
    "\n",
    "When running $F$ or $T$ tests we've noted that the null hypothesis we're looking to test should be specified before\n",
    "looking at the data. Similarly, parameter for which we want \n",
    "confidence intervals should be specified before hand. This question will explore what happens when we choose\n",
    "our parameters after looking at the data.\n",
    "\n",
    "1. Write a function that generates a sample $(X_i,Y_i)_{1 \\leq i \\leq n}$ with $X_i$ a vector of \n",
    "independent standard normals of length 10 and $n=100$. Generate $Y$ using the regression function\n",
    "$$\n",
    "f(X) = 1 + 0.3 X_1\n",
    "$$\n",
    "and $N(0,1)$ random errors.\n",
    "\n",
    "2. Fit a model `lm(Y ~ X)`, computing the features for which the p-value is less than 10% and returning\n",
    "95% confidence intervals for those selected coefficients. What number should each of these numbers cover? That is, if we form a 95% confidence interval for the effect of $X_3$ what should the interval cover? (Note that there are 11 coefficients so we want 11 different numbers.) How often do your intervals cover what they should? Your answer should be a vector of length 11. \n",
    "\n",
    "3. Using the same model, test the overall goodness of fit of the model using the $F$ test against the model `lm(Y ~ 1)` at level 10%. If we reject this null hypothesis, return the 90% confidence intervals for the effect of features $X_1$ and $X_3$. How often do these intervals cover what they should?\n",
    "\n",
    "4. "
   ]
  },
  {
   "cell_type": "code",
   "execution_count": 78,
   "metadata": {},
   "outputs": [
    {
     "data": {
      "text/html": [
       "<ol class=list-inline>\n",
       "\t<li>0.955</li>\n",
       "\t<li>0.898230088495575</li>\n",
       "\t<li>0.383720930232558</li>\n",
       "\t<li>0.47</li>\n",
       "\t<li>0.481927710843373</li>\n",
       "\t<li>0.435643564356436</li>\n",
       "\t<li>0.495798319327731</li>\n",
       "\t<li>0.484536082474227</li>\n",
       "\t<li>0.506329113924051</li>\n",
       "\t<li>0.490740740740741</li>\n",
       "\t<li>0.395348837209302</li>\n",
       "</ol>\n"
      ],
      "text/latex": [
       "\\begin{enumerate*}\n",
       "\\item 0.955\n",
       "\\item 0.898230088495575\n",
       "\\item 0.383720930232558\n",
       "\\item 0.47\n",
       "\\item 0.481927710843373\n",
       "\\item 0.435643564356436\n",
       "\\item 0.495798319327731\n",
       "\\item 0.484536082474227\n",
       "\\item 0.506329113924051\n",
       "\\item 0.490740740740741\n",
       "\\item 0.395348837209302\n",
       "\\end{enumerate*}\n"
      ],
      "text/markdown": [
       "1. 0.955\n",
       "2. 0.898230088495575\n",
       "3. 0.383720930232558\n",
       "4. 0.47\n",
       "5. 0.481927710843373\n",
       "6. 0.435643564356436\n",
       "7. 0.495798319327731\n",
       "8. 0.484536082474227\n",
       "9. 0.506329113924051\n",
       "10. 0.490740740740741\n",
       "11. 0.395348837209302\n",
       "\n",
       "\n"
      ],
      "text/plain": [
       " [1] 0.9550000 0.8982301 0.3837209 0.4700000 0.4819277 0.4356436 0.4957983\n",
       " [8] 0.4845361 0.5063291 0.4907407 0.3953488"
      ]
     },
     "metadata": {},
     "output_type": "display_data"
    }
   ],
   "source": [
    "simulate = function() {\n",
    "    X = matrix(rnorm(1000), 100, 10)\n",
    "    Y = 1 + 0.1 * X[,1] + rnorm(100)\n",
    "    M = lm(Y ~ X)\n",
    "    coefM = summary(M)$coef\n",
    "    selection = coefM[,4] < 0.1\n",
    "    target = c(1, 0.1, rep(0, 9))\n",
    "    V = cbind(target, confint(M, level=0.95))\n",
    "    colnames(V) = c(\"target\", \"lower\", \"upper\")\n",
    "    cover = (V[,\"lower\"] < V[,'target']) * (V[,\"upper\"] > V[,'target'])\n",
    "    V = cbind(V, cover)\n",
    "    V[!selection,] = NA\n",
    "    return(V)\n",
    "}\n",
    "\n",
    "    X = matrix(rnorm(1000), 100, 10)\n",
    "    Y = 1 + 0.3 * X[,1] + rnorm(100)\n",
    "    M = lm(Y ~ X)\n",
    "\n",
    "results = matrix(NA, 1000, 11)\n",
    "for (i in 1:1000) {\n",
    "    result = simulate()\n",
    "    results[i,] = as.numeric(result[,'cover'])\n",
    "    }\n",
    "apply(results, 2, mean, na.rm=TRUE)\n"
   ]
  },
  {
   "cell_type": "markdown",
   "metadata": {},
   "source": [
    "# Question 6 (ALSM 19.14)\n",
    "\n",
    "A research laboratory was developing a new compound for the relief of severe cases of hay fever. In an experiment with 36 volunteers, the amounts of the two active ingredients (factors `A` and `B`) in the compound were varied at three levels each. Randomization was used in assigning four volunteers to each of the nine treatments. The data can be found at [http://stats191.stanford.edu/data/hayfever.table](http://stats191.stanford.edu/data/hayfever.table).\n",
    "\n",
    "\n",
    "1.  Fit the two-way ANOVA model, including interactions. What is the\n",
    "estimated mean when Factor `A` is 2 and Factor `B` is 1?\n",
    "\n",
    "2. Using `R`’s standard regression plots, plot the `qqplot` of the residuals. Is there any serious violation of normality?\n",
    "\n",
    "3. This question asks you to graphically summarize the data. Create a plot with Factor `A` on the x-axis, and, using 3 different plotting symbols, the mean for each level of Factor `B` above each level of Factor `A` (see kidney data example). Does there appear to be any interactions?\n",
    "\n",
    "4. Test for an interaction at level $\\alpha = 0.05$.\n",
    "\n",
    "5. Test for main effects of Factors A and B at level $\\alpha = 0.05$."
   ]
  },
  {
   "cell_type": "code",
   "execution_count": null,
   "metadata": {},
   "outputs": [],
   "source": []
  }
 ],
 "metadata": {
  "anaconda-cloud": {},
  "kernelspec": {
   "display_name": "R",
   "language": "R",
   "name": "ir"
  },
  "language_info": {
   "codemirror_mode": "r",
   "file_extension": ".r",
   "mimetype": "text/x-r-source",
   "name": "R",
   "pygments_lexer": "r",
   "version": "3.5.1"
  }
 },
 "nbformat": 4,
 "nbformat_minor": 1
}
